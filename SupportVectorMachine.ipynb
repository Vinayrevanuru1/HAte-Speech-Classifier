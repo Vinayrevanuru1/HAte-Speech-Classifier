{
  "cells": [
    {
      "cell_type": "code",
      "execution_count": 1,
      "metadata": {
        "id": "_Ssu7TV15IXS"
      },
      "outputs": [],
      "source": [
        "import pandas as pd\n",
        "import numpy as np"
      ]
    },
    {
      "cell_type": "code",
      "execution_count": 2,
      "metadata": {
        "id": "8hWmZgPS5Jf2"
      },
      "outputs": [],
      "source": [
        "path = 'dataset/'\n",
        "train = pd.read_csv(path + \"train.csv\")\n",
        "\n",
        "test = pd.read_csv(path + \"test.csv\")\n",
        "labels = pd.read_csv(path + \"test_labels.csv\")"
      ]
    },
    {
      "cell_type": "code",
      "execution_count": 3,
      "metadata": {
        "colab": {
          "base_uri": "https://localhost:8080/"
        },
        "id": "2YkaLCfF5K5s",
        "outputId": "91b91d87-e193-4b6f-a5b0-3de86a98df76"
      },
      "outputs": [
        {
          "data": {
            "text/plain": [
              "['toxic', 'severe_toxic', 'obscene', 'threat', 'insult', 'identity_hate']"
            ]
          },
          "execution_count": 3,
          "metadata": {},
          "output_type": "execute_result"
        }
      ],
      "source": [
        "\n",
        "classes = list(train.columns)[2:]\n",
        "classes"
      ]
    },
    {
      "cell_type": "code",
      "execution_count": 4,
      "metadata": {
        "id": "rBZavbVK7vjT"
      },
      "outputs": [],
      "source": [
        "links = '(http://.*?\\s)|(http://.*)'\n",
        "ip_addr = '\\d{1,3}\\.\\d{1,3}\\.\\d{1,3}\\.\\d{1,3}'\n",
        "users = '\\[\\[User.*'\n",
        "newline = '\\\\n'\n",
        "def clean(comment):\n",
        "  import re\n",
        "  comment=comment.lower()\n",
        "  comment=re.sub(links,'',comment)\n",
        "  comment=re.sub(ip_addr,'',comment)\n",
        "  comment=re.sub(users,'',comment)\n",
        "  comment=re.sub(newline,'',comment)\n",
        "  return comment"
      ]
    },
    {
      "cell_type": "code",
      "execution_count": 5,
      "metadata": {
        "id": "ZNKmg0MF7zuI"
      },
      "outputs": [],
      "source": [
        "train['comment_text']=train['comment_text'].map(lambda i:clean(i))\n",
        "test['comment_text']=test['comment_text'].map(lambda i:clean(i))"
      ]
    },
    {
      "cell_type": "code",
      "execution_count": 6,
      "metadata": {
        "colab": {
          "base_uri": "https://localhost:8080/"
        },
        "id": "cdq9Yog770_r",
        "outputId": "958de07e-294b-4d6b-cc2a-f9d64bda6844"
      },
      "outputs": [
        {
          "name": "stdout",
          "output_type": "stream",
          "text": [
            "(159571,)\n",
            "(159571, 6)\n"
          ]
        }
      ],
      "source": [
        "x=train['comment_text']\n",
        "y=train.iloc[:,2:8]\n",
        "print(x.shape)\n",
        "print(y.shape)"
      ]
    },
    {
      "cell_type": "code",
      "execution_count": 7,
      "metadata": {
        "id": "rqXTqDmM73dH"
      },
      "outputs": [],
      "source": [
        "from sklearn.model_selection import train_test_split\n",
        "X_train, X_val, y_train, y_val = train_test_split(x,y,test_size=0.2,random_state=1)"
      ]
    },
    {
      "cell_type": "code",
      "execution_count": 8,
      "metadata": {
        "id": "7NcohrfI746e"
      },
      "outputs": [],
      "source": [
        "labels = pd.read_csv(path + \"test_labels.csv\")\n",
        "labels=labels.iloc[:,1:]\n",
        "sum_labels=np.sum(labels,axis=1)\n",
        "idx=sum_labels>=0"
      ]
    },
    {
      "cell_type": "code",
      "execution_count": 9,
      "metadata": {
        "colab": {
          "base_uri": "https://localhost:8080/"
        },
        "id": "70AwdsWr76VQ",
        "outputId": "2358ee15-54e0-4dc1-ce57-e127603b7951"
      },
      "outputs": [
        {
          "name": "stdout",
          "output_type": "stream",
          "text": [
            "(63978, 6) (63978,)\n"
          ]
        }
      ],
      "source": [
        "labels_consider=labels[idx]\n",
        "test=test.iloc[:,1:]\n",
        "tests_consider=test[idx].values[:,0]\n",
        "\n",
        "print(labels_consider.shape, tests_consider.shape)"
      ]
    },
    {
      "cell_type": "code",
      "execution_count": 13,
      "metadata": {
        "id": "kLZHQv8yYlJd"
      },
      "outputs": [],
      "source": []
    },
    {
      "cell_type": "code",
      "execution_count": 10,
      "metadata": {
        "id": "wPBDzdl4YiFx"
      },
      "outputs": [],
      "source": [
        "from sklearn.model_selection import train_test_split\n",
        "X_train, X_val, y_train, y_val = train_test_split(x,y,test_size=0.2,random_state=1)"
      ]
    },
    {
      "cell_type": "code",
      "execution_count": 11,
      "metadata": {
        "id": "s5Hu4UOkYIp9"
      },
      "outputs": [],
      "source": [
        "from sklearn.feature_extraction.text import TfidfVectorizer\n",
        "tfidf=TfidfVectorizer(max_features=5000,strip_accents='unicode',stop_words='english',token_pattern=r'\\w{2,}')"
      ]
    },
    {
      "cell_type": "code",
      "execution_count": 12,
      "metadata": {
        "colab": {
          "base_uri": "https://localhost:8080/"
        },
        "id": "oJYx-a1lYKWE",
        "outputId": "6022f029-47e1-4638-c13b-573d1f68d155"
      },
      "outputs": [
        {
          "name": "stdout",
          "output_type": "stream",
          "text": [
            "(127656, 5000)\n",
            "(31915, 5000)\n",
            "(63978, 5000)\n"
          ]
        }
      ],
      "source": [
        "tfidf.fit(X_train)\n",
        "X_train_feat=tfidf.fit_transform(X_train)\n",
        "print(X_train_feat.shape)\n",
        "\n",
        "X_val_feat=tfidf.transform(X_val)\n",
        "print(X_val_feat.shape)\n",
        "\n",
        "X_test_feat=tfidf.transform(tests_consider)\n",
        "print(X_test_feat.shape)"
      ]
    },
    {
      "cell_type": "code",
      "execution_count": 13,
      "metadata": {
        "colab": {
          "base_uri": "https://localhost:8080/"
        },
        "id": "DF-ztK6YZMUA",
        "outputId": "77ecec5c-6895-4422-8117-bd10e7c7eaab"
      },
      "outputs": [
        {
          "name": "stdout",
          "output_type": "stream",
          "text": [
            "Collecting scikit-multilearn\n",
            "  Downloading scikit_multilearn-0.2.0-py3-none-any.whl (89 kB)\n",
            "     ---------------------------------------- 89.4/89.4 kB 1.7 MB/s eta 0:00:00\n",
            "Installing collected packages: scikit-multilearn\n",
            "Successfully installed scikit-multilearn-0.2.0\n"
          ]
        },
        {
          "name": "stderr",
          "output_type": "stream",
          "text": [
            "WARNING: Ignoring invalid distribution -rotobuf (c:\\users\\admin\\appdata\\local\\programs\\python\\python310\\lib\\site-packages)\n",
            "WARNING: Ignoring invalid distribution - (c:\\users\\admin\\appdata\\local\\programs\\python\\python310\\lib\\site-packages)\n",
            "WARNING: Ignoring invalid distribution -rotobuf (c:\\users\\admin\\appdata\\local\\programs\\python\\python310\\lib\\site-packages)\n",
            "WARNING: Ignoring invalid distribution - (c:\\users\\admin\\appdata\\local\\programs\\python\\python310\\lib\\site-packages)\n",
            "WARNING: Ignoring invalid distribution -rotobuf (c:\\users\\admin\\appdata\\local\\programs\\python\\python310\\lib\\site-packages)\n",
            "WARNING: Ignoring invalid distribution - (c:\\users\\admin\\appdata\\local\\programs\\python\\python310\\lib\\site-packages)\n",
            "WARNING: Ignoring invalid distribution -rotobuf (c:\\users\\admin\\appdata\\local\\programs\\python\\python310\\lib\\site-packages)\n",
            "WARNING: Ignoring invalid distribution - (c:\\users\\admin\\appdata\\local\\programs\\python\\python310\\lib\\site-packages)\n",
            "WARNING: Ignoring invalid distribution -rotobuf (c:\\users\\admin\\appdata\\local\\programs\\python\\python310\\lib\\site-packages)\n",
            "WARNING: Ignoring invalid distribution - (c:\\users\\admin\\appdata\\local\\programs\\python\\python310\\lib\\site-packages)\n",
            "WARNING: Ignoring invalid distribution -rotobuf (c:\\users\\admin\\appdata\\local\\programs\\python\\python310\\lib\\site-packages)\n",
            "WARNING: Ignoring invalid distribution - (c:\\users\\admin\\appdata\\local\\programs\\python\\python310\\lib\\site-packages)\n",
            "WARNING: Ignoring invalid distribution -rotobuf (c:\\users\\admin\\appdata\\local\\programs\\python\\python310\\lib\\site-packages)\n",
            "WARNING: Ignoring invalid distribution - (c:\\users\\admin\\appdata\\local\\programs\\python\\python310\\lib\\site-packages)\n",
            "\n",
            "[notice] A new release of pip available: 22.3.1 -> 23.1\n",
            "[notice] To update, run: python.exe -m pip install --upgrade pip\n"
          ]
        }
      ],
      "source": [
        "!pip install scikit-multilearn"
      ]
    },
    {
      "cell_type": "code",
      "execution_count": 14,
      "metadata": {
        "colab": {
          "base_uri": "https://localhost:8080/"
        },
        "id": "BHcyCrVnZnRI",
        "outputId": "c1530d7b-f5d6-47a4-bfaa-a6942566ed5a"
      },
      "outputs": [
        {
          "name": "stdout",
          "output_type": "stream",
          "text": [
            "(127656,)\n",
            "(127656, 6)\n"
          ]
        }
      ],
      "source": [
        "print(X_train.shape)\n",
        "print(y_train.shape)"
      ]
    },
    {
      "cell_type": "code",
      "execution_count": 15,
      "metadata": {
        "colab": {
          "base_uri": "https://localhost:8080/"
        },
        "id": "q0jtDEOhYKo-",
        "outputId": "338fe151-23b2-44e0-ad51-02482aeaac22"
      },
      "outputs": [],
      "source": [
        "from skmultilearn.problem_transform import BinaryRelevance\n",
        "from sklearn.svm import SVC\n",
        "\n",
        "model_br = BinaryRelevance(classifier = SVC(), require_dense = [False, True])\n",
        "model_br.fit(X_train_feat, y_train)"
      ]
    },
    {
      "cell_type": "code",
      "execution_count": 19,
      "metadata": {
        "id": "cs1n42oyYK9Y"
      },
      "outputs": [],
      "source": [
        "preds_train = model_br.predict(X_train_feat)"
      ]
    },
    {
      "cell_type": "code",
      "execution_count": 36,
      "metadata": {
        "colab": {
          "base_uri": "https://localhost:8080/"
        },
        "id": "IPpOiOIvYLRE",
        "outputId": "c2206caf-4f9d-48b9-e2b6-d169f6b56bde"
      },
      "outputs": [
        {
          "name": "stdout",
          "output_type": "stream",
          "text": [
            "0.7689564894630726\n"
          ]
        }
      ],
      "source": [
        "from sklearn.metrics import roc_auc_score, accuracy_score\n",
        "\n",
        "print(roc_auc_score(y_train, preds_train.toarray()))"
      ]
    },
    {
      "cell_type": "code",
      "execution_count": null,
      "metadata": {
        "id": "ZdmVIUZiYLks"
      },
      "outputs": [],
      "source": [
        "preds_val = model_br.predict(X_val_feat)\n"
      ]
    },
    {
      "cell_type": "code",
      "execution_count": 37,
      "metadata": {
        "colab": {
          "base_uri": "https://localhost:8080/"
        },
        "id": "XmDmd3FlOCO6",
        "outputId": "166256b5-472e-4f8c-8d0d-d2096b3c6cc1"
      },
      "outputs": [
        {
          "name": "stdout",
          "output_type": "stream",
          "text": [
            "0.6665239237377513\n"
          ]
        }
      ],
      "source": [
        "print(roc_auc_score(y_val, preds_val.toarray()))"
      ]
    },
    {
      "cell_type": "code",
      "execution_count": 22,
      "metadata": {
        "id": "BnVqSL9tYMCt"
      },
      "outputs": [],
      "source": [
        "preds_test = model_br.predict(X_test_feat)"
      ]
    },
    {
      "cell_type": "code",
      "execution_count": 38,
      "metadata": {
        "colab": {
          "base_uri": "https://localhost:8080/"
        },
        "id": "rTbfyOIy8Qav",
        "outputId": "3853a4cd-a128-4774-ed58-60ba4983a162"
      },
      "outputs": [
        {
          "name": "stdout",
          "output_type": "stream",
          "text": [
            "0.6636501540392014\n"
          ]
        }
      ],
      "source": [
        "print(roc_auc_score(labels_consider, preds_test.toarray()))"
      ]
    },
    {
      "cell_type": "code",
      "execution_count": 19,
      "metadata": {
        "colab": {
          "base_uri": "https://localhost:8080/"
        },
        "id": "5f5uqxeW8VTu",
        "outputId": "6a4b69e1-098a-46f6-e126-bb17ec9dfc9d"
      },
      "outputs": [
        {
          "data": {
            "text/plain": [
              "ClassifierChain(classifier=SVC(C=1.0, break_ties=False, cache_size=200,\n",
              "                               class_weight=None, coef0=0.0,\n",
              "                               decision_function_shape='ovr', degree=3,\n",
              "                               gamma='scale', kernel='rbf', max_iter=-1,\n",
              "                               probability=False, random_state=None,\n",
              "                               shrinking=True, tol=0.001, verbose=False),\n",
              "                order=None, require_dense=[False, True])"
            ]
          },
          "execution_count": 19,
          "metadata": {
            "tags": []
          },
          "output_type": "execute_result"
        }
      ],
      "source": [
        "from skmultilearn.problem_transform import ClassifierChain\n",
        "from sklearn.svm import SVC\n",
        "\n",
        "model_cc = ClassifierChain(classifier = SVC(), require_dense = [False, True])\n",
        "model_cc.fit(X_train_feat, y_train)"
      ]
    },
    {
      "cell_type": "code",
      "execution_count": 20,
      "metadata": {
        "id": "wVeWDaEw786p"
      },
      "outputs": [],
      "source": [
        "preds_train = model_cc.predict(X_train_feat)\n"
      ]
    },
    {
      "cell_type": "code",
      "execution_count": 30,
      "metadata": {
        "colab": {
          "base_uri": "https://localhost:8080/"
        },
        "id": "XI2zBbZd8K_m",
        "outputId": "67f86dbe-306e-413a-aa31-f900a4de5486"
      },
      "outputs": [
        {
          "name": "stdout",
          "output_type": "stream",
          "text": [
            "0.7645674561502386\n"
          ]
        }
      ],
      "source": [
        "from sklearn.metrics import roc_auc_score, accuracy_score\n",
        "\n",
        "print(roc_auc_score(y_train, preds_train.toarray()))"
      ]
    },
    {
      "cell_type": "code",
      "execution_count": null,
      "metadata": {
        "id": "LdnfJy1d83WX"
      },
      "outputs": [],
      "source": [
        "preds_val = model_cc.predict(X_val_feat)\n"
      ]
    },
    {
      "cell_type": "code",
      "execution_count": 34,
      "metadata": {
        "colab": {
          "base_uri": "https://localhost:8080/"
        },
        "id": "aiwjwQw3N6Ui",
        "outputId": "dc57a562-1e8e-471b-ca5a-fea04b57adf3"
      },
      "outputs": [
        {
          "name": "stdout",
          "output_type": "stream",
          "text": [
            "0.6751504109269661\n"
          ]
        }
      ],
      "source": [
        "print(roc_auc_score(y_val, preds_val.toarray()))"
      ]
    },
    {
      "cell_type": "code",
      "execution_count": 22,
      "metadata": {
        "id": "mY0pffex4EGe"
      },
      "outputs": [],
      "source": [
        "preds_test = model_cc.predict(X_test_feat)"
      ]
    },
    {
      "cell_type": "code",
      "execution_count": 35,
      "metadata": {
        "colab": {
          "base_uri": "https://localhost:8080/"
        },
        "id": "mP6A1DvA4WJu",
        "outputId": "4dfe3026-1227-43a7-f5c0-0e70464db3a5"
      },
      "outputs": [
        {
          "name": "stdout",
          "output_type": "stream",
          "text": [
            "0.6718590534519624\n"
          ]
        }
      ],
      "source": [
        "print(roc_auc_score(labels_consider, preds_test.toarray()))"
      ]
    },
    {
      "cell_type": "code",
      "execution_count": null,
      "metadata": {
        "id": "Y_pVEd0Y4XvN"
      },
      "outputs": [],
      "source": []
    }
  ],
  "metadata": {
    "colab": {
      "collapsed_sections": [],
      "name": "SVM - Binary Relevance, Classifier chains.ipynb",
      "provenance": []
    },
    "kernelspec": {
      "display_name": "Python 3",
      "name": "python3"
    },
    "language_info": {
      "codemirror_mode": {
        "name": "ipython",
        "version": 3
      },
      "file_extension": ".py",
      "mimetype": "text/x-python",
      "name": "python",
      "nbconvert_exporter": "python",
      "pygments_lexer": "ipython3",
      "version": "3.10.9"
    }
  },
  "nbformat": 4,
  "nbformat_minor": 0
}
