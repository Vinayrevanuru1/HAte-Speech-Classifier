{
  "cells": [
    {
      "cell_type": "code",
      "execution_count": 1,
      "metadata": {
        "colab": {
          "base_uri": "https://localhost:8080/"
        },
        "id": "VNMFWmoDsBx8",
        "outputId": "4249b632-1c8d-4730-f1f1-11edbc8dd6e1"
      },
      "outputs": [
        {
          "name": "stdout",
          "output_type": "stream",
          "text": [
            "Mounted at /content/drive\n"
          ]
        }
      ],
      "source": []
    },
    {
      "cell_type": "code",
      "execution_count": 2,
      "metadata": {
        "id": "dmooG68RseQG"
      },
      "outputs": [],
      "source": []
    },
    {
      "cell_type": "code",
      "execution_count": 3,
      "metadata": {
        "colab": {
          "base_uri": "https://localhost:8080/",
          "height": 35
        },
        "id": "erJA49Pns7PN",
        "outputId": "5297f411-0ce6-49c1-afba-36f513b2812a"
      },
      "outputs": [
        {
          "data": {
            "application/vnd.google.colaboratory.intrinsic+json": {
              "type": "string"
            },
            "text/plain": [
              "\"Un-Comment For Running locally out of colab\\npath='./dataset'\\n\""
            ]
          },
          "execution_count": 3,
          "metadata": {
            "tags": []
          },
          "output_type": "execute_result"
        }
      ],
      "source": [
        "\"\"\"Un-Comment For Running locally out of colab\n",
        "path='./dataset'\n",
        "\"\"\"#Un-Comment For Running locally out of colab "
      ]
    },
    {
      "cell_type": "code",
      "execution_count": 1,
      "metadata": {
        "id": "NC2nlqYdtDRw"
      },
      "outputs": [],
      "source": [
        "import pandas as pd"
      ]
    },
    {
      "cell_type": "code",
      "execution_count": 3,
      "metadata": {
        "id": "tm1w-jons7oD"
      },
      "outputs": [],
      "source": [
        "train = pd.read_csv( \"dataset/train.csv\")\n",
        "test = pd.read_csv(\"dataset/test.csv\")"
      ]
    },
    {
      "cell_type": "code",
      "execution_count": 4,
      "metadata": {
        "colab": {
          "base_uri": "https://localhost:8080/",
          "height": 204
        },
        "id": "4WzwTlIZtKzs",
        "outputId": "4d2532f6-468d-4ece-83d5-2edf5d1f5315"
      },
      "outputs": [
        {
          "data": {
            "text/html": [
              "<div>\n",
              "<style scoped>\n",
              "    .dataframe tbody tr th:only-of-type {\n",
              "        vertical-align: middle;\n",
              "    }\n",
              "\n",
              "    .dataframe tbody tr th {\n",
              "        vertical-align: top;\n",
              "    }\n",
              "\n",
              "    .dataframe thead th {\n",
              "        text-align: right;\n",
              "    }\n",
              "</style>\n",
              "<table border=\"1\" class=\"dataframe\">\n",
              "  <thead>\n",
              "    <tr style=\"text-align: right;\">\n",
              "      <th></th>\n",
              "      <th>id</th>\n",
              "      <th>comment_text</th>\n",
              "      <th>toxic</th>\n",
              "      <th>severe_toxic</th>\n",
              "      <th>obscene</th>\n",
              "      <th>threat</th>\n",
              "      <th>insult</th>\n",
              "      <th>identity_hate</th>\n",
              "    </tr>\n",
              "  </thead>\n",
              "  <tbody>\n",
              "    <tr>\n",
              "      <th>0</th>\n",
              "      <td>0000997932d777bf</td>\n",
              "      <td>Explanation\\nWhy the edits made under my usern...</td>\n",
              "      <td>0</td>\n",
              "      <td>0</td>\n",
              "      <td>0</td>\n",
              "      <td>0</td>\n",
              "      <td>0</td>\n",
              "      <td>0</td>\n",
              "    </tr>\n",
              "    <tr>\n",
              "      <th>1</th>\n",
              "      <td>000103f0d9cfb60f</td>\n",
              "      <td>D'aww! He matches this background colour I'm s...</td>\n",
              "      <td>0</td>\n",
              "      <td>0</td>\n",
              "      <td>0</td>\n",
              "      <td>0</td>\n",
              "      <td>0</td>\n",
              "      <td>0</td>\n",
              "    </tr>\n",
              "    <tr>\n",
              "      <th>2</th>\n",
              "      <td>000113f07ec002fd</td>\n",
              "      <td>Hey man, I'm really not trying to edit war. It...</td>\n",
              "      <td>0</td>\n",
              "      <td>0</td>\n",
              "      <td>0</td>\n",
              "      <td>0</td>\n",
              "      <td>0</td>\n",
              "      <td>0</td>\n",
              "    </tr>\n",
              "    <tr>\n",
              "      <th>3</th>\n",
              "      <td>0001b41b1c6bb37e</td>\n",
              "      <td>\"\\nMore\\nI can't make any real suggestions on ...</td>\n",
              "      <td>0</td>\n",
              "      <td>0</td>\n",
              "      <td>0</td>\n",
              "      <td>0</td>\n",
              "      <td>0</td>\n",
              "      <td>0</td>\n",
              "    </tr>\n",
              "    <tr>\n",
              "      <th>4</th>\n",
              "      <td>0001d958c54c6e35</td>\n",
              "      <td>You, sir, are my hero. Any chance you remember...</td>\n",
              "      <td>0</td>\n",
              "      <td>0</td>\n",
              "      <td>0</td>\n",
              "      <td>0</td>\n",
              "      <td>0</td>\n",
              "      <td>0</td>\n",
              "    </tr>\n",
              "  </tbody>\n",
              "</table>\n",
              "</div>"
            ],
            "text/plain": [
              "                 id                                       comment_text  toxic  \\\n",
              "0  0000997932d777bf  Explanation\\nWhy the edits made under my usern...      0   \n",
              "1  000103f0d9cfb60f  D'aww! He matches this background colour I'm s...      0   \n",
              "2  000113f07ec002fd  Hey man, I'm really not trying to edit war. It...      0   \n",
              "3  0001b41b1c6bb37e  \"\\nMore\\nI can't make any real suggestions on ...      0   \n",
              "4  0001d958c54c6e35  You, sir, are my hero. Any chance you remember...      0   \n",
              "\n",
              "   severe_toxic  obscene  threat  insult  identity_hate  \n",
              "0             0        0       0       0              0  \n",
              "1             0        0       0       0              0  \n",
              "2             0        0       0       0              0  \n",
              "3             0        0       0       0              0  \n",
              "4             0        0       0       0              0  "
            ]
          },
          "execution_count": 4,
          "metadata": {},
          "output_type": "execute_result"
        }
      ],
      "source": [
        "train.head()"
      ]
    },
    {
      "cell_type": "code",
      "execution_count": 5,
      "metadata": {
        "colab": {
          "base_uri": "https://localhost:8080/",
          "height": 297
        },
        "id": "fnbHIARvtMDF",
        "outputId": "bc7fced1-d295-484e-ea67-848812dfa547"
      },
      "outputs": [
        {
          "data": {
            "text/html": [
              "<div>\n",
              "<style scoped>\n",
              "    .dataframe tbody tr th:only-of-type {\n",
              "        vertical-align: middle;\n",
              "    }\n",
              "\n",
              "    .dataframe tbody tr th {\n",
              "        vertical-align: top;\n",
              "    }\n",
              "\n",
              "    .dataframe thead th {\n",
              "        text-align: right;\n",
              "    }\n",
              "</style>\n",
              "<table border=\"1\" class=\"dataframe\">\n",
              "  <thead>\n",
              "    <tr style=\"text-align: right;\">\n",
              "      <th></th>\n",
              "      <th>toxic</th>\n",
              "      <th>severe_toxic</th>\n",
              "      <th>obscene</th>\n",
              "      <th>threat</th>\n",
              "      <th>insult</th>\n",
              "      <th>identity_hate</th>\n",
              "    </tr>\n",
              "  </thead>\n",
              "  <tbody>\n",
              "    <tr>\n",
              "      <th>count</th>\n",
              "      <td>100000.000000</td>\n",
              "      <td>100000.00000</td>\n",
              "      <td>100000.000000</td>\n",
              "      <td>100000.000000</td>\n",
              "      <td>100000.000000</td>\n",
              "      <td>100000.000000</td>\n",
              "    </tr>\n",
              "    <tr>\n",
              "      <th>mean</th>\n",
              "      <td>0.096120</td>\n",
              "      <td>0.00999</td>\n",
              "      <td>0.053270</td>\n",
              "      <td>0.003140</td>\n",
              "      <td>0.049670</td>\n",
              "      <td>0.008540</td>\n",
              "    </tr>\n",
              "    <tr>\n",
              "      <th>std</th>\n",
              "      <td>0.294757</td>\n",
              "      <td>0.09945</td>\n",
              "      <td>0.224573</td>\n",
              "      <td>0.055948</td>\n",
              "      <td>0.217263</td>\n",
              "      <td>0.092017</td>\n",
              "    </tr>\n",
              "    <tr>\n",
              "      <th>min</th>\n",
              "      <td>0.000000</td>\n",
              "      <td>0.00000</td>\n",
              "      <td>0.000000</td>\n",
              "      <td>0.000000</td>\n",
              "      <td>0.000000</td>\n",
              "      <td>0.000000</td>\n",
              "    </tr>\n",
              "    <tr>\n",
              "      <th>25%</th>\n",
              "      <td>0.000000</td>\n",
              "      <td>0.00000</td>\n",
              "      <td>0.000000</td>\n",
              "      <td>0.000000</td>\n",
              "      <td>0.000000</td>\n",
              "      <td>0.000000</td>\n",
              "    </tr>\n",
              "    <tr>\n",
              "      <th>50%</th>\n",
              "      <td>0.000000</td>\n",
              "      <td>0.00000</td>\n",
              "      <td>0.000000</td>\n",
              "      <td>0.000000</td>\n",
              "      <td>0.000000</td>\n",
              "      <td>0.000000</td>\n",
              "    </tr>\n",
              "    <tr>\n",
              "      <th>75%</th>\n",
              "      <td>0.000000</td>\n",
              "      <td>0.00000</td>\n",
              "      <td>0.000000</td>\n",
              "      <td>0.000000</td>\n",
              "      <td>0.000000</td>\n",
              "      <td>0.000000</td>\n",
              "    </tr>\n",
              "    <tr>\n",
              "      <th>max</th>\n",
              "      <td>1.000000</td>\n",
              "      <td>1.00000</td>\n",
              "      <td>1.000000</td>\n",
              "      <td>1.000000</td>\n",
              "      <td>1.000000</td>\n",
              "      <td>1.000000</td>\n",
              "    </tr>\n",
              "  </tbody>\n",
              "</table>\n",
              "</div>"
            ],
            "text/plain": [
              "               toxic  severe_toxic        obscene         threat  \\\n",
              "count  100000.000000  100000.00000  100000.000000  100000.000000   \n",
              "mean        0.096120       0.00999       0.053270       0.003140   \n",
              "std         0.294757       0.09945       0.224573       0.055948   \n",
              "min         0.000000       0.00000       0.000000       0.000000   \n",
              "25%         0.000000       0.00000       0.000000       0.000000   \n",
              "50%         0.000000       0.00000       0.000000       0.000000   \n",
              "75%         0.000000       0.00000       0.000000       0.000000   \n",
              "max         1.000000       1.00000       1.000000       1.000000   \n",
              "\n",
              "              insult  identity_hate  \n",
              "count  100000.000000  100000.000000  \n",
              "mean        0.049670       0.008540  \n",
              "std         0.217263       0.092017  \n",
              "min         0.000000       0.000000  \n",
              "25%         0.000000       0.000000  \n",
              "50%         0.000000       0.000000  \n",
              "75%         0.000000       0.000000  \n",
              "max         1.000000       1.000000  "
            ]
          },
          "execution_count": 5,
          "metadata": {},
          "output_type": "execute_result"
        }
      ],
      "source": [
        "train = train[:100000]\n",
        "train.describe()"
      ]
    },
    {
      "cell_type": "code",
      "execution_count": 6,
      "metadata": {
        "colab": {
          "base_uri": "https://localhost:8080/"
        },
        "id": "N_zaT_NFuE8P",
        "outputId": "abfbbe1e-eeab-47ec-a1ef-d1c03b9f9e53"
      },
      "outputs": [
        {
          "data": {
            "text/plain": [
              "['toxic', 'severe_toxic', 'obscene', 'threat', 'insult', 'identity_hate']"
            ]
          },
          "execution_count": 6,
          "metadata": {},
          "output_type": "execute_result"
        }
      ],
      "source": [
        "classes = list(train.columns)[2:]\n",
        "classes"
      ]
    },
    {
      "cell_type": "code",
      "execution_count": 7,
      "metadata": {
        "colab": {
          "base_uri": "https://localhost:8080/"
        },
        "id": "oM9QIfLVu7uE",
        "outputId": "03a7510c-17f0-494b-bd36-a167741b6408"
      },
      "outputs": [
        {
          "data": {
            "text/plain": [
              "toxic            9612\n",
              "severe_toxic      999\n",
              "obscene          5327\n",
              "threat            314\n",
              "insult           4967\n",
              "identity_hate     854\n",
              "dtype: int64"
            ]
          },
          "execution_count": 7,
          "metadata": {},
          "output_type": "execute_result"
        }
      ],
      "source": [
        "train[classes].sum()"
      ]
    },
    {
      "cell_type": "code",
      "execution_count": 8,
      "metadata": {
        "colab": {
          "base_uri": "https://localhost:8080/"
        },
        "id": "4fOjK066KSjg",
        "outputId": "a79e313c-6255-443a-a882-d8d04ddb42a1"
      },
      "outputs": [
        {
          "name": "stderr",
          "output_type": "stream",
          "text": [
            "C:\\Users\\admin\\AppData\\Local\\Temp\\ipykernel_26928\\1688125639.py:5: UserWarning: This pattern is interpreted as a regular expression, and has match groups. To actually get the groups, use str.extract.\n",
            "  print(train['comment_text'].str.contains(links).sum())\n"
          ]
        },
        {
          "name": "stdout",
          "output_type": "stream",
          "text": [
            "2766\n",
            "6313\n",
            "196\n",
            "59357\n"
          ]
        }
      ],
      "source": [
        "links = '(http://.*?\\s)|(http://.*)'\n",
        "ip_addr = '\\d{1,3}\\.\\d{1,3}\\.\\d{1,3}\\.\\d{1,3}'\n",
        "users = '\\[\\[User.*'\n",
        "newline = '\\\\n'\n",
        "print(train['comment_text'].str.contains(links).sum())\n",
        "print(train['comment_text'].str.contains(ip_addr).sum())\n",
        "print(train['comment_text'].str.contains(users).sum())\n",
        "print(train['comment_text'].str.contains(newline).sum())"
      ]
    },
    {
      "cell_type": "code",
      "execution_count": 9,
      "metadata": {
        "id": "m07mORZILlL7"
      },
      "outputs": [],
      "source": [
        "def clean(comment):\n",
        "  import re\n",
        "  comment=comment.lower()\n",
        "  comment=re.sub(links,'',comment)\n",
        "  comment=re.sub(ip_addr,'',comment)\n",
        "  comment=re.sub(users,'',comment)\n",
        "  comment=re.sub(newline,'',comment)\n",
        "  return comment"
      ]
    },
    {
      "cell_type": "code",
      "execution_count": 10,
      "metadata": {
        "id": "K12p5jE5NJ7R"
      },
      "outputs": [],
      "source": [
        "train['comment_text']=train['comment_text'].map(lambda i:clean(i))\n",
        "test['comment_text']=test['comment_text'].map(lambda i:clean(i))"
      ]
    },
    {
      "cell_type": "code",
      "execution_count": 13,
      "metadata": {
        "colab": {
          "base_uri": "https://localhost:8080/"
        },
        "id": "qH8sc6RHNjzd",
        "outputId": "d18b2aff-d780-41a4-a075-03fcd4a434ef"
      },
      "outputs": [
        {
          "name": "stderr",
          "output_type": "stream",
          "text": [
            "/usr/local/lib/python3.6/dist-packages/pandas/core/strings.py:2001: UserWarning: This pattern has match groups. To actually get the groups, use str.extract.\n",
            "  return func(self, *args, **kwargs)\n"
          ]
        },
        {
          "name": "stdout",
          "output_type": "stream",
          "text": [
            "0\n",
            "0\n",
            "0\n",
            "0\n"
          ]
        }
      ],
      "source": [
        "print(train['comment_text'].str.contains(links).sum())\n",
        "print(train['comment_text'].str.contains(ip_addr).sum())\n",
        "print(train['comment_text'].str.contains(users).sum())\n",
        "print(train['comment_text'].str.contains(newline).sum())"
      ]
    },
    {
      "cell_type": "code",
      "execution_count": 15,
      "metadata": {},
      "outputs": [],
      "source": [
        "#store the comments in a txt file\n",
        "\n",
        "train['comment_text'].to_csv('train.txt',index=False,header=False)"
      ]
    },
    {
      "cell_type": "code",
      "execution_count": 13,
      "metadata": {
        "id": "aaMK6BUWNoxu"
      },
      "outputs": [],
      "source": []
    },
    {
      "cell_type": "code",
      "execution_count": 13,
      "metadata": {
        "id": "cHKDqonvNujj"
      },
      "outputs": [],
      "source": []
    },
    {
      "cell_type": "code",
      "execution_count": 14,
      "metadata": {
        "colab": {
          "base_uri": "https://localhost:8080/"
        },
        "id": "MKP-Yq7tPYGu",
        "outputId": "18945a0c-b29b-4a42-a6d9-6f51829419ca"
      },
      "outputs": [
        {
          "name": "stdout",
          "output_type": "stream",
          "text": [
            "(100000,)\n",
            "(100000, 6)\n"
          ]
        }
      ],
      "source": [
        "x=train['comment_text']\n",
        "y=train.iloc[:,2:8]\n",
        "print(x.shape)\n",
        "print(y.shape)"
      ]
    },
    {
      "cell_type": "code",
      "execution_count": 15,
      "metadata": {
        "id": "f6gBY2YROeW0"
      },
      "outputs": [],
      "source": [
        "from sklearn.model_selection import train_test_split\n",
        "X_train, X_val, y_train, y_val = train_test_split(x,y,test_size=0.2,random_state=1)"
      ]
    },
    {
      "cell_type": "code",
      "execution_count": 16,
      "metadata": {
        "id": "C9eJhCPEO5Mu"
      },
      "outputs": [],
      "source": [
        "from sklearn.feature_extraction.text import TfidfVectorizer"
      ]
    },
    {
      "cell_type": "code",
      "execution_count": 17,
      "metadata": {
        "id": "fV35kZ6lPsWr"
      },
      "outputs": [],
      "source": [
        "tfidf=TfidfVectorizer(max_features=5000,strip_accents='unicode',stop_words='english',token_pattern=r'\\w{2,}')"
      ]
    },
    {
      "cell_type": "code",
      "execution_count": 18,
      "metadata": {
        "colab": {
          "base_uri": "https://localhost:8080/"
        },
        "id": "OhuFSlyWPt7C",
        "outputId": "a97349c4-7721-4316-df89-c004187c9820"
      },
      "outputs": [
        {
          "data": {
            "text/plain": [
              "(80000, 5000)"
            ]
          },
          "execution_count": 18,
          "metadata": {
            "tags": []
          },
          "output_type": "execute_result"
        }
      ],
      "source": [
        "tfidf.fit(X_train)\n",
        "X_train_feat=tfidf.fit_transform(X_train)\n",
        "X_train_feat.shape"
      ]
    },
    {
      "cell_type": "code",
      "execution_count": 18,
      "metadata": {
        "id": "DsycMB0jQdtE"
      },
      "outputs": [],
      "source": []
    },
    {
      "cell_type": "code",
      "execution_count": 19,
      "metadata": {
        "colab": {
          "base_uri": "https://localhost:8080/"
        },
        "id": "Btj0-pI_RkRp",
        "outputId": "a4f3a684-aae0-4940-98a3-effb986704ba"
      },
      "outputs": [
        {
          "data": {
            "text/plain": [
              "(20000, 5000)"
            ]
          },
          "execution_count": 19,
          "metadata": {
            "tags": []
          },
          "output_type": "execute_result"
        }
      ],
      "source": [
        "X_val_feat=tfidf.transform(X_val)\n",
        "X_val_feat.shape"
      ]
    },
    {
      "cell_type": "code",
      "execution_count": 19,
      "metadata": {
        "id": "LSPxmRSzolyP"
      },
      "outputs": [],
      "source": []
    },
    {
      "cell_type": "code",
      "execution_count": 20,
      "metadata": {
        "id": "Q1ao7bo2omFK"
      },
      "outputs": [],
      "source": [
        "import numpy as np\n",
        "\n",
        "labels = pd.read_csv(path + \"test_labels.csv\")\n",
        "labels=labels.iloc[:,1:]\n",
        "sum_labels=np.sum(labels,axis=1)\n",
        "idx=sum_labels>=0"
      ]
    },
    {
      "cell_type": "code",
      "execution_count": 21,
      "metadata": {
        "colab": {
          "base_uri": "https://localhost:8080/"
        },
        "id": "xzuFClKaomfm",
        "outputId": "101fddfb-721c-4cd5-e385-5a54f00ff238"
      },
      "outputs": [
        {
          "name": "stdout",
          "output_type": "stream",
          "text": [
            "(63978, 6) (63978,)\n"
          ]
        }
      ],
      "source": [
        "labels_consider=labels[idx]\n",
        "test=test.iloc[:,1:]\n",
        "tests_consider=test[idx].values[:,0]\n",
        "\n",
        "print(labels_consider.shape, tests_consider.shape)"
      ]
    },
    {
      "cell_type": "code",
      "execution_count": 22,
      "metadata": {
        "colab": {
          "base_uri": "https://localhost:8080/"
        },
        "id": "vY4jY1ZsovHZ",
        "outputId": "f7feb8da-61ec-4ee2-8434-71fd74937c1e"
      },
      "outputs": [
        {
          "data": {
            "text/plain": [
              "(63978, 5000)"
            ]
          },
          "execution_count": 22,
          "metadata": {
            "tags": []
          },
          "output_type": "execute_result"
        }
      ],
      "source": [
        "X_test_feat=tfidf.transform(tests_consider)\n",
        "X_test_feat.shape"
      ]
    },
    {
      "cell_type": "code",
      "execution_count": 22,
      "metadata": {
        "id": "AzLv5hJH3pqf"
      },
      "outputs": [],
      "source": []
    },
    {
      "cell_type": "code",
      "execution_count": 22,
      "metadata": {
        "id": "WqXyGH1E3p7-"
      },
      "outputs": [],
      "source": []
    },
    {
      "cell_type": "code",
      "execution_count": 23,
      "metadata": {
        "id": "BTn-o8A2SEqA"
      },
      "outputs": [],
      "source": [
        "from sklearn.linear_model import LogisticRegression\n",
        "from sklearn.metrics import roc_auc_score\n",
        "\n",
        "model=LogisticRegression(C=20.0, max_iter=1000000)"
      ]
    },
    {
      "cell_type": "code",
      "execution_count": 24,
      "metadata": {
        "id": "2hz4KhQ_Wyrv"
      },
      "outputs": [],
      "source": [
        "## Binary Relevance"
      ]
    },
    {
      "cell_type": "code",
      "execution_count": 25,
      "metadata": {
        "colab": {
          "base_uri": "https://localhost:8080/"
        },
        "id": "UbSEmpvTTWYQ",
        "outputId": "348fa479-9daa-4904-f6a7-a45b477a3b80"
      },
      "outputs": [
        {
          "name": "stdout",
          "output_type": "stream",
          "text": [
            "Class: toxic\n",
            "Train ROC AUC Score: 0.8641180051831711\n",
            "Val ROC AUC Score: 0.8207180907734924\n",
            "Test ROC AUC Score: 0.8417549380219865\n",
            "\n",
            "Class: severe_toxic\n",
            "Train ROC AUC Score: 0.7354769544912093\n",
            "Val ROC AUC Score: 0.6133964600570482\n",
            "Test ROC AUC Score: 0.6809342308240435\n",
            "\n",
            "Class: obscene\n",
            "Train ROC AUC Score: 0.8928312440198478\n",
            "Val ROC AUC Score: 0.848488716614316\n",
            "Test ROC AUC Score: 0.8235366774921389\n",
            "\n",
            "Class: threat\n",
            "Train ROC AUC Score: 0.8161114861718565\n",
            "Val ROC AUC Score: 0.6307964702177707\n",
            "Test ROC AUC Score: 0.6367507462186276\n",
            "\n",
            "Class: insult\n",
            "Train ROC AUC Score: 0.8373195677328823\n",
            "Val ROC AUC Score: 0.7741099340770253\n",
            "Test ROC AUC Score: 0.7691786795569605\n",
            "\n",
            "Class: identity_hate\n",
            "Train ROC AUC Score: 0.7554634080871397\n",
            "Val ROC AUC Score: 0.6637757907724186\n",
            "Test ROC AUC Score: 0.6410308739237967\n",
            "\n",
            "0.732197691006259\n"
          ]
        }
      ],
      "source": [
        "scores_roc_aoc = []\n",
        "\n",
        "for label_name in classes:\n",
        "    print('Class:', label_name)\n",
        "\n",
        "    model.fit(X_train_feat, y_train[label_name])\n",
        "    preds_train = model.predict(X_train_feat)\n",
        "    train_roc_auc = roc_auc_score(y_train[label_name], preds_train)\n",
        "    print('Train ROC AUC Score:', train_roc_auc)\n",
        "\n",
        "    preds_val = model.predict(X_val_feat)\n",
        "    val_roc_auc = roc_auc_score(y_val[label_name], preds_val)\n",
        "    print('Val ROC AUC Score:', val_roc_auc)\n",
        "\n",
        "    preds_test = model.predict(X_test_feat)\n",
        "    test_roc_auc = roc_auc_score(labels_consider[label_name], preds_test)\n",
        "    print('Test ROC AUC Score:', test_roc_auc)\n",
        "    scores_roc_aoc.append(test_roc_auc)\n",
        "\n",
        "    print()\n",
        "\n",
        "\n",
        "print(np.mean(scores_roc_aoc))"
      ]
    },
    {
      "cell_type": "code",
      "execution_count": 100,
      "metadata": {
        "id": "CArUWeW6jcNN"
      },
      "outputs": [],
      "source": []
    },
    {
      "cell_type": "code",
      "execution_count": 101,
      "metadata": {
        "id": "g-I9iwL1VW91"
      },
      "outputs": [],
      "source": [
        "## Classifier chains"
      ]
    },
    {
      "cell_type": "code",
      "execution_count": 1,
      "metadata": {
        "id": "JcgwvHDXW3q6"
      },
      "outputs": [],
      "source": [
        "from scipy.sparse import hstack, csr_matrix\n",
        "\n",
        "def add_feat(x, feat):\n",
        "  return hstack([x, csr_matrix(feat).T], 'csr')"
      ]
    },
    {
      "cell_type": "code",
      "execution_count": 2,
      "metadata": {
        "colab": {
          "base_uri": "https://localhost:8080/"
        },
        "id": "QmcS6jd0XU8E",
        "outputId": "02641ab7-3a95-499f-96c3-3a19d2eb460e"
      },
      "outputs": [
        {
          "ename": "NameError",
          "evalue": "name 'classes' is not defined",
          "output_type": "error",
          "traceback": [
            "\u001b[1;31m---------------------------------------------------------------------------\u001b[0m",
            "\u001b[1;31mNameError\u001b[0m                                 Traceback (most recent call last)",
            "Cell \u001b[1;32mIn[2], line 3\u001b[0m\n\u001b[0;32m      1\u001b[0m scores_roc_aoc \u001b[39m=\u001b[39m []\n\u001b[1;32m----> 3\u001b[0m \u001b[39mfor\u001b[39;00m label_name \u001b[39min\u001b[39;00m classes:\n\u001b[0;32m      4\u001b[0m     \u001b[39mprint\u001b[39m(\u001b[39m'\u001b[39m\u001b[39mClass:\u001b[39m\u001b[39m'\u001b[39m, label_name)\n\u001b[0;32m      6\u001b[0m     model\u001b[39m.\u001b[39mfit(X_train_feat, y_train[label_name])\n",
            "\u001b[1;31mNameError\u001b[0m: name 'classes' is not defined"
          ]
        }
      ],
      "source": [
        "scores_roc_aoc = []\n",
        "\n",
        "for label_name in classes:\n",
        "    print('Class:', label_name)\n",
        "\n",
        "    model.fit(X_train_feat, y_train[label_name])\n",
        "    preds_train = model.predict(X_train_feat)\n",
        "    train_roc_auc = roc_auc_score(y_train[label_name], preds_train)\n",
        "    print('Train ROC AUC Score:', train_roc_auc)\n",
        "\n",
        "    preds_val = model.predict(X_val_feat)\n",
        "    val_roc_auc = roc_auc_score(y_val[label_name], preds_val)\n",
        "    print('Val ROC AUC Score:', val_roc_auc)\n",
        "\n",
        "    preds_test = model.predict(X_test_feat)\n",
        "    test_roc_auc = roc_auc_score(labels_consider[label_name], preds_test)\n",
        "    print('Test ROC AUC Score:', test_roc_auc)\n",
        "    scores_roc_aoc.append(test_roc_auc)\n",
        "\n",
        "    X_train_feat = add_feat(X_train_feat, y_train[label_name])\n",
        "    X_val_feat = add_feat(X_val_feat, y_val[label_name])\n",
        "    X_test_feat = add_feat(X_test_feat, labels_consider[label_name])\n",
        "    print(X_train_feat.shape)\n",
        "    print(X_val_feat.shape)\n",
        "    print(X_test_feat.shape)\n",
        "    print()\n",
        "\n",
        "print(np.mean(scores_roc_aoc))"
      ]
    },
    {
      "cell_type": "code",
      "execution_count": 103,
      "metadata": {
        "id": "qJgo5z04Y2Ca"
      },
      "outputs": [],
      "source": []
    },
    {
      "cell_type": "code",
      "execution_count": 103,
      "metadata": {
        "id": "dP_ZEGCekqaF"
      },
      "outputs": [],
      "source": []
    },
    {
      "cell_type": "code",
      "execution_count": 103,
      "metadata": {
        "id": "gkRjLEplmGtM"
      },
      "outputs": [],
      "source": []
    },
    {
      "cell_type": "code",
      "execution_count": 103,
      "metadata": {
        "id": "mbsr6l-hm3Ws"
      },
      "outputs": [],
      "source": []
    }
  ],
  "metadata": {
    "colab": {
      "collapsed_sections": [],
      "name": "LR - Binary Relevance, Classifier chains.ipynb",
      "provenance": []
    },
    "kernelspec": {
      "display_name": "Python 3",
      "name": "python3"
    },
    "language_info": {
      "codemirror_mode": {
        "name": "ipython",
        "version": 3
      },
      "file_extension": ".py",
      "mimetype": "text/x-python",
      "name": "python",
      "nbconvert_exporter": "python",
      "pygments_lexer": "ipython3",
      "version": "3.10.9"
    }
  },
  "nbformat": 4,
  "nbformat_minor": 0
}
