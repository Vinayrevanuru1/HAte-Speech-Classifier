{
  "cells": [
    {
      "cell_type": "code",
      "execution_count": 1,
      "metadata": {
        "id": "woO5Nq2PlAhk"
      },
      "outputs": [],
      "source": [
        "import numpy as np"
      ]
    },
    {
      "cell_type": "code",
      "execution_count": 2,
      "metadata": {
        "id": "9vde1JQjR68y"
      },
      "outputs": [],
      "source": [
        "path_train='dataset/train.csv'\n",
        "path_test='dataset/test.csv'"
      ]
    },
    {
      "cell_type": "code",
      "execution_count": 3,
      "metadata": {
        "id": "azQqlpKc2Vb5"
      },
      "outputs": [],
      "source": [
        "import pandas as pd\n",
        "train = pd.read_csv(path_train)\n",
        "test = pd.read_csv(path_test)"
      ]
    },
    {
      "cell_type": "code",
      "execution_count": 4,
      "metadata": {
        "id": "vCFj-fg_STpU"
      },
      "outputs": [],
      "source": [
        "from sklearn.model_selection import train_test_split"
      ]
    },
    {
      "cell_type": "code",
      "execution_count": 5,
      "metadata": {
        "id": "zQ7SBxBiR65c"
      },
      "outputs": [],
      "source": [
        "train_x, val_x, train_y, val_y = train_test_split(train['comment_text'],train[['toxic', 'severe_toxic', 'obscene', 'threat', 'insult', 'identity_hate']], test_size=0.2, random_state=2)"
      ]
    },
    {
      "cell_type": "code",
      "execution_count": 6,
      "metadata": {
        "id": "FVTVTyNOR62k"
      },
      "outputs": [],
      "source": [
        "import re, string,gc\n",
        "symbols = re.compile(f'([{string.punctuation}“”¨«»®´·º½¾¿¡§£₤‘’])')\n",
        "def tokenize(s): return symbols.sub(r' \\1 ', s).split()"
      ]
    },
    {
      "cell_type": "code",
      "execution_count": 7,
      "metadata": {
        "colab": {
          "base_uri": "https://localhost:8080/"
        },
        "id": "TAYo_K9QR6z-",
        "outputId": "76c06365-be7d-4a6c-e574-01a2d6be09d7"
      },
      "outputs": [
        {
          "name": "stderr",
          "output_type": "stream",
          "text": [
            "c:\\Users\\admin\\AppData\\Local\\Programs\\Python\\Python310\\lib\\site-packages\\sklearn\\utils\\_param_validation.py:558: FutureWarning: Passing an int for a boolean parameter is deprecated in version 1.2 and won't be supported anymore in version 1.4.\n",
            "  warnings.warn(\n",
            "c:\\Users\\admin\\AppData\\Local\\Programs\\Python\\Python310\\lib\\site-packages\\sklearn\\feature_extraction\\text.py:528: UserWarning: The parameter 'token_pattern' will not be used since 'tokenizer' is not None'\n",
            "  warnings.warn(\n"
          ]
        }
      ],
      "source": [
        "from sklearn.feature_extraction.text import TfidfVectorizer\n",
        "transform_function = TfidfVectorizer(ngram_range=(1,2), tokenizer=tokenize,\n",
        "               min_df=3, max_df=0.9, strip_accents='unicode', use_idf=1,\n",
        "               smooth_idf=1, sublinear_tf=1).fit(train['comment_text'])"
      ]
    },
    {
      "cell_type": "code",
      "execution_count": 8,
      "metadata": {
        "id": "D6ntC0_sR6xP"
      },
      "outputs": [],
      "source": [
        "comments_train = transform_function.transform(train_x)\n",
        "comments_val = transform_function.transform(val_x)\n",
        "comments_test = transform_function.transform(test['comment_text'])"
      ]
    },
    {
      "cell_type": "code",
      "execution_count": 9,
      "metadata": {
        "id": "nLWZ3FOaTlYU"
      },
      "outputs": [],
      "source": [
        "col = ['total_length', 'capitals', 'caps_vs_length','num_exclamation_marks', 'num_question_marks', 'num_punctuation','num_symbols', 'num_words', 'num_unique_words', 'words_vs_unique','num_smilies']"
      ]
    },
    {
      "cell_type": "code",
      "execution_count": 11,
      "metadata": {},
      "outputs": [
        {
          "ename": "KeyError",
          "evalue": "'comment_text'",
          "output_type": "error",
          "traceback": [
            "\u001b[1;31m---------------------------------------------------------------------------\u001b[0m",
            "\u001b[1;31mKeyError\u001b[0m                                  Traceback (most recent call last)",
            "File \u001b[1;32mc:\\Users\\admin\\AppData\\Local\\Programs\\Python\\Python310\\lib\\site-packages\\pandas\\core\\indexes\\base.py:3803\u001b[0m, in \u001b[0;36mIndex.get_loc\u001b[1;34m(self, key, method, tolerance)\u001b[0m\n\u001b[0;32m   3802\u001b[0m \u001b[39mtry\u001b[39;00m:\n\u001b[1;32m-> 3803\u001b[0m     \u001b[39mreturn\u001b[39;00m \u001b[39mself\u001b[39;49m\u001b[39m.\u001b[39;49m_engine\u001b[39m.\u001b[39;49mget_loc(casted_key)\n\u001b[0;32m   3804\u001b[0m \u001b[39mexcept\u001b[39;00m \u001b[39mKeyError\u001b[39;00m \u001b[39mas\u001b[39;00m err:\n",
            "File \u001b[1;32mc:\\Users\\admin\\AppData\\Local\\Programs\\Python\\Python310\\lib\\site-packages\\pandas\\_libs\\index.pyx:138\u001b[0m, in \u001b[0;36mpandas._libs.index.IndexEngine.get_loc\u001b[1;34m()\u001b[0m\n",
            "File \u001b[1;32mc:\\Users\\admin\\AppData\\Local\\Programs\\Python\\Python310\\lib\\site-packages\\pandas\\_libs\\index.pyx:146\u001b[0m, in \u001b[0;36mpandas._libs.index.IndexEngine.get_loc\u001b[1;34m()\u001b[0m\n",
            "File \u001b[1;32mpandas\\_libs\\index_class_helper.pxi:49\u001b[0m, in \u001b[0;36mpandas._libs.index.Int64Engine._check_type\u001b[1;34m()\u001b[0m\n",
            "\u001b[1;31mKeyError\u001b[0m: 'comment_text'",
            "\nThe above exception was the direct cause of the following exception:\n",
            "\u001b[1;31mKeyError\u001b[0m                                  Traceback (most recent call last)",
            "Cell \u001b[1;32mIn[11], line 4\u001b[0m\n\u001b[0;32m      1\u001b[0m combined \u001b[39m=\u001b[39m [train_x, val_x, test]\n\u001b[0;32m      3\u001b[0m \u001b[39mfor\u001b[39;00m data \u001b[39min\u001b[39;00m combined:\n\u001b[1;32m----> 4\u001b[0m     data[\u001b[39m'\u001b[39m\u001b[39mtotal_length\u001b[39m\u001b[39m'\u001b[39m] \u001b[39m=\u001b[39m data[\u001b[39m'\u001b[39;49m\u001b[39mcomment_text\u001b[39;49m\u001b[39m'\u001b[39;49m]\u001b[39m.\u001b[39mapply(\u001b[39mlen\u001b[39m)\n\u001b[0;32m      5\u001b[0m     data[\u001b[39m'\u001b[39m\u001b[39mcapitals\u001b[39m\u001b[39m'\u001b[39m] \u001b[39m=\u001b[39m data[\u001b[39m'\u001b[39m\u001b[39mcomment_text\u001b[39m\u001b[39m'\u001b[39m]\u001b[39m.\u001b[39mapply(\u001b[39mlambda\u001b[39;00m x: \u001b[39msum\u001b[39m(\u001b[39m1\u001b[39m \u001b[39mfor\u001b[39;00m c \u001b[39min\u001b[39;00m x \u001b[39mif\u001b[39;00m c\u001b[39m.\u001b[39misupper()))\n\u001b[0;32m      6\u001b[0m     data[\u001b[39m'\u001b[39m\u001b[39mcaps_vs_length\u001b[39m\u001b[39m'\u001b[39m] \u001b[39m=\u001b[39m data\u001b[39m.\u001b[39mapply(\u001b[39mlambda\u001b[39;00m row: \u001b[39mfloat\u001b[39m(row[\u001b[39m'\u001b[39m\u001b[39mcapitals\u001b[39m\u001b[39m'\u001b[39m])\u001b[39m/\u001b[39m\u001b[39mfloat\u001b[39m(row[\u001b[39m'\u001b[39m\u001b[39mtotal_length\u001b[39m\u001b[39m'\u001b[39m]),\n\u001b[0;32m      7\u001b[0m                                 axis\u001b[39m=\u001b[39m\u001b[39m1\u001b[39m)\n",
            "File \u001b[1;32mc:\\Users\\admin\\AppData\\Local\\Programs\\Python\\Python310\\lib\\site-packages\\pandas\\core\\series.py:981\u001b[0m, in \u001b[0;36mSeries.__getitem__\u001b[1;34m(self, key)\u001b[0m\n\u001b[0;32m    978\u001b[0m     \u001b[39mreturn\u001b[39;00m \u001b[39mself\u001b[39m\u001b[39m.\u001b[39m_values[key]\n\u001b[0;32m    980\u001b[0m \u001b[39melif\u001b[39;00m key_is_scalar:\n\u001b[1;32m--> 981\u001b[0m     \u001b[39mreturn\u001b[39;00m \u001b[39mself\u001b[39;49m\u001b[39m.\u001b[39;49m_get_value(key)\n\u001b[0;32m    983\u001b[0m \u001b[39mif\u001b[39;00m is_hashable(key):\n\u001b[0;32m    984\u001b[0m     \u001b[39m# Otherwise index.get_value will raise InvalidIndexError\u001b[39;00m\n\u001b[0;32m    985\u001b[0m     \u001b[39mtry\u001b[39;00m:\n\u001b[0;32m    986\u001b[0m         \u001b[39m# For labels that don't resolve as scalars like tuples and frozensets\u001b[39;00m\n",
            "File \u001b[1;32mc:\\Users\\admin\\AppData\\Local\\Programs\\Python\\Python310\\lib\\site-packages\\pandas\\core\\series.py:1089\u001b[0m, in \u001b[0;36mSeries._get_value\u001b[1;34m(self, label, takeable)\u001b[0m\n\u001b[0;32m   1086\u001b[0m     \u001b[39mreturn\u001b[39;00m \u001b[39mself\u001b[39m\u001b[39m.\u001b[39m_values[label]\n\u001b[0;32m   1088\u001b[0m \u001b[39m# Similar to Index.get_value, but we do not fall back to positional\u001b[39;00m\n\u001b[1;32m-> 1089\u001b[0m loc \u001b[39m=\u001b[39m \u001b[39mself\u001b[39;49m\u001b[39m.\u001b[39;49mindex\u001b[39m.\u001b[39;49mget_loc(label)\n\u001b[0;32m   1090\u001b[0m \u001b[39mreturn\u001b[39;00m \u001b[39mself\u001b[39m\u001b[39m.\u001b[39mindex\u001b[39m.\u001b[39m_get_values_for_loc(\u001b[39mself\u001b[39m, loc, label)\n",
            "File \u001b[1;32mc:\\Users\\admin\\AppData\\Local\\Programs\\Python\\Python310\\lib\\site-packages\\pandas\\core\\indexes\\base.py:3805\u001b[0m, in \u001b[0;36mIndex.get_loc\u001b[1;34m(self, key, method, tolerance)\u001b[0m\n\u001b[0;32m   3803\u001b[0m     \u001b[39mreturn\u001b[39;00m \u001b[39mself\u001b[39m\u001b[39m.\u001b[39m_engine\u001b[39m.\u001b[39mget_loc(casted_key)\n\u001b[0;32m   3804\u001b[0m \u001b[39mexcept\u001b[39;00m \u001b[39mKeyError\u001b[39;00m \u001b[39mas\u001b[39;00m err:\n\u001b[1;32m-> 3805\u001b[0m     \u001b[39mraise\u001b[39;00m \u001b[39mKeyError\u001b[39;00m(key) \u001b[39mfrom\u001b[39;00m \u001b[39merr\u001b[39;00m\n\u001b[0;32m   3806\u001b[0m \u001b[39mexcept\u001b[39;00m \u001b[39mTypeError\u001b[39;00m:\n\u001b[0;32m   3807\u001b[0m     \u001b[39m# If we have a listlike key, _check_indexing_error will raise\u001b[39;00m\n\u001b[0;32m   3808\u001b[0m     \u001b[39m#  InvalidIndexError. Otherwise we fall through and re-raise\u001b[39;00m\n\u001b[0;32m   3809\u001b[0m     \u001b[39m#  the TypeError.\u001b[39;00m\n\u001b[0;32m   3810\u001b[0m     \u001b[39mself\u001b[39m\u001b[39m.\u001b[39m_check_indexing_error(key)\n",
            "\u001b[1;31mKeyError\u001b[0m: 'comment_text'"
          ]
        }
      ],
      "source": [
        "combined = [train_x, val_x, test]\n",
        "\n",
        "for data in combined:\n",
        "    data['total_length'] = data['comment_text'].apply(len)\n",
        "    data['capitals'] = data['comment_text'].apply(lambda x: sum(1 for c in x if c.isupper()))\n",
        "    data['caps_vs_length'] = data.apply(lambda row: float(row['capitals'])/float(row['total_length']),\n",
        "                                axis=1)\n",
        "    data['num_exclamation_marks'] = data['comment_text'].apply(lambda x: x.count('!'))\n",
        "    data['num_question_marks'] = data['comment_text'].apply(lambda x: x.count('?'))\n",
        "    data['num_punctuation'] = data['comment_text'].apply(lambda x: sum(x.count(w) for w in '.,;:'))\n",
        "    data['num_symbols'] = data['comment_text'].apply(lambda x: sum(x.count(w) for w in '*&$%'))\n",
        "    data['num_words'] = data['comment_text'].apply(lambda x: len(x.split()))\n",
        "    data['num_unique_words'] = data['comment_text'].apply(lambda x: len(set(w for w in x.split())))\n",
        "    data['words_vs_unique'] = data['num_unique_words'] / data['num_words']\n",
        "    data['num_smilies'] = data['comment_text'].apply(lambda x: sum(x.count(w) for w in (':-)', ':)', ';-)', ';)')))"
      ]
    },
    {
      "cell_type": "code",
      "execution_count": 10,
      "metadata": {
        "id": "9WgFoleOR6n0"
      },
      "outputs": [
        {
          "ename": "KeyError",
          "evalue": "\"None of [Index(['total_length', 'capitals', 'caps_vs_length', 'num_exclamation_marks',\\n       'num_question_marks', 'num_punctuation', 'num_symbols', 'num_words',\\n       'num_unique_words', 'words_vs_unique', 'num_smilies'],\\n      dtype='object')] are in the [index]\"",
          "output_type": "error",
          "traceback": [
            "\u001b[1;31m---------------------------------------------------------------------------\u001b[0m",
            "\u001b[1;31mKeyError\u001b[0m                                  Traceback (most recent call last)",
            "Cell \u001b[1;32mIn[10], line 2\u001b[0m\n\u001b[0;32m      1\u001b[0m \u001b[39mimport\u001b[39;00m \u001b[39mscipy\u001b[39;00m\n\u001b[1;32m----> 2\u001b[0m train_x \u001b[39m=\u001b[39m scipy\u001b[39m.\u001b[39msparse\u001b[39m.\u001b[39mcsr_matrix(train_x[col]\u001b[39m.\u001b[39mvalues)\n\u001b[0;32m      3\u001b[0m val_x \u001b[39m=\u001b[39m scipy\u001b[39m.\u001b[39msparse\u001b[39m.\u001b[39mcsr_matrix(val_x[col]\u001b[39m.\u001b[39mvalues)\n\u001b[0;32m      4\u001b[0m test \u001b[39m=\u001b[39m scipy\u001b[39m.\u001b[39msparse\u001b[39m.\u001b[39mcsr_matrix(test[col]\u001b[39m.\u001b[39mvalues)\n",
            "File \u001b[1;32mc:\\Users\\admin\\AppData\\Local\\Programs\\Python\\Python310\\lib\\site-packages\\pandas\\core\\series.py:1007\u001b[0m, in \u001b[0;36mSeries.__getitem__\u001b[1;34m(self, key)\u001b[0m\n\u001b[0;32m   1004\u001b[0m     key \u001b[39m=\u001b[39m np\u001b[39m.\u001b[39masarray(key, dtype\u001b[39m=\u001b[39m\u001b[39mbool\u001b[39m)\n\u001b[0;32m   1005\u001b[0m     \u001b[39mreturn\u001b[39;00m \u001b[39mself\u001b[39m\u001b[39m.\u001b[39m_get_values(key)\n\u001b[1;32m-> 1007\u001b[0m \u001b[39mreturn\u001b[39;00m \u001b[39mself\u001b[39;49m\u001b[39m.\u001b[39;49m_get_with(key)\n",
            "File \u001b[1;32mc:\\Users\\admin\\AppData\\Local\\Programs\\Python\\Python310\\lib\\site-packages\\pandas\\core\\series.py:1047\u001b[0m, in \u001b[0;36mSeries._get_with\u001b[1;34m(self, key)\u001b[0m\n\u001b[0;32m   1044\u001b[0m         \u001b[39mreturn\u001b[39;00m \u001b[39mself\u001b[39m\u001b[39m.\u001b[39miloc[key]\n\u001b[0;32m   1046\u001b[0m \u001b[39m# handle the dup indexing case GH#4246\u001b[39;00m\n\u001b[1;32m-> 1047\u001b[0m \u001b[39mreturn\u001b[39;00m \u001b[39mself\u001b[39;49m\u001b[39m.\u001b[39;49mloc[key]\n",
            "File \u001b[1;32mc:\\Users\\admin\\AppData\\Local\\Programs\\Python\\Python310\\lib\\site-packages\\pandas\\core\\indexing.py:1073\u001b[0m, in \u001b[0;36m_LocationIndexer.__getitem__\u001b[1;34m(self, key)\u001b[0m\n\u001b[0;32m   1070\u001b[0m axis \u001b[39m=\u001b[39m \u001b[39mself\u001b[39m\u001b[39m.\u001b[39maxis \u001b[39mor\u001b[39;00m \u001b[39m0\u001b[39m\n\u001b[0;32m   1072\u001b[0m maybe_callable \u001b[39m=\u001b[39m com\u001b[39m.\u001b[39mapply_if_callable(key, \u001b[39mself\u001b[39m\u001b[39m.\u001b[39mobj)\n\u001b[1;32m-> 1073\u001b[0m \u001b[39mreturn\u001b[39;00m \u001b[39mself\u001b[39;49m\u001b[39m.\u001b[39;49m_getitem_axis(maybe_callable, axis\u001b[39m=\u001b[39;49maxis)\n",
            "File \u001b[1;32mc:\\Users\\admin\\AppData\\Local\\Programs\\Python\\Python310\\lib\\site-packages\\pandas\\core\\indexing.py:1301\u001b[0m, in \u001b[0;36m_LocIndexer._getitem_axis\u001b[1;34m(self, key, axis)\u001b[0m\n\u001b[0;32m   1298\u001b[0m     \u001b[39mif\u001b[39;00m \u001b[39mhasattr\u001b[39m(key, \u001b[39m\"\u001b[39m\u001b[39mndim\u001b[39m\u001b[39m\"\u001b[39m) \u001b[39mand\u001b[39;00m key\u001b[39m.\u001b[39mndim \u001b[39m>\u001b[39m \u001b[39m1\u001b[39m:\n\u001b[0;32m   1299\u001b[0m         \u001b[39mraise\u001b[39;00m \u001b[39mValueError\u001b[39;00m(\u001b[39m\"\u001b[39m\u001b[39mCannot index with multidimensional key\u001b[39m\u001b[39m\"\u001b[39m)\n\u001b[1;32m-> 1301\u001b[0m     \u001b[39mreturn\u001b[39;00m \u001b[39mself\u001b[39;49m\u001b[39m.\u001b[39;49m_getitem_iterable(key, axis\u001b[39m=\u001b[39;49maxis)\n\u001b[0;32m   1303\u001b[0m \u001b[39m# nested tuple slicing\u001b[39;00m\n\u001b[0;32m   1304\u001b[0m \u001b[39mif\u001b[39;00m is_nested_tuple(key, labels):\n",
            "File \u001b[1;32mc:\\Users\\admin\\AppData\\Local\\Programs\\Python\\Python310\\lib\\site-packages\\pandas\\core\\indexing.py:1239\u001b[0m, in \u001b[0;36m_LocIndexer._getitem_iterable\u001b[1;34m(self, key, axis)\u001b[0m\n\u001b[0;32m   1236\u001b[0m \u001b[39mself\u001b[39m\u001b[39m.\u001b[39m_validate_key(key, axis)\n\u001b[0;32m   1238\u001b[0m \u001b[39m# A collection of keys\u001b[39;00m\n\u001b[1;32m-> 1239\u001b[0m keyarr, indexer \u001b[39m=\u001b[39m \u001b[39mself\u001b[39;49m\u001b[39m.\u001b[39;49m_get_listlike_indexer(key, axis)\n\u001b[0;32m   1240\u001b[0m \u001b[39mreturn\u001b[39;00m \u001b[39mself\u001b[39m\u001b[39m.\u001b[39mobj\u001b[39m.\u001b[39m_reindex_with_indexers(\n\u001b[0;32m   1241\u001b[0m     {axis: [keyarr, indexer]}, copy\u001b[39m=\u001b[39m\u001b[39mTrue\u001b[39;00m, allow_dups\u001b[39m=\u001b[39m\u001b[39mTrue\u001b[39;00m\n\u001b[0;32m   1242\u001b[0m )\n",
            "File \u001b[1;32mc:\\Users\\admin\\AppData\\Local\\Programs\\Python\\Python310\\lib\\site-packages\\pandas\\core\\indexing.py:1432\u001b[0m, in \u001b[0;36m_LocIndexer._get_listlike_indexer\u001b[1;34m(self, key, axis)\u001b[0m\n\u001b[0;32m   1429\u001b[0m ax \u001b[39m=\u001b[39m \u001b[39mself\u001b[39m\u001b[39m.\u001b[39mobj\u001b[39m.\u001b[39m_get_axis(axis)\n\u001b[0;32m   1430\u001b[0m axis_name \u001b[39m=\u001b[39m \u001b[39mself\u001b[39m\u001b[39m.\u001b[39mobj\u001b[39m.\u001b[39m_get_axis_name(axis)\n\u001b[1;32m-> 1432\u001b[0m keyarr, indexer \u001b[39m=\u001b[39m ax\u001b[39m.\u001b[39;49m_get_indexer_strict(key, axis_name)\n\u001b[0;32m   1434\u001b[0m \u001b[39mreturn\u001b[39;00m keyarr, indexer\n",
            "File \u001b[1;32mc:\\Users\\admin\\AppData\\Local\\Programs\\Python\\Python310\\lib\\site-packages\\pandas\\core\\indexes\\base.py:6113\u001b[0m, in \u001b[0;36mIndex._get_indexer_strict\u001b[1;34m(self, key, axis_name)\u001b[0m\n\u001b[0;32m   6110\u001b[0m \u001b[39melse\u001b[39;00m:\n\u001b[0;32m   6111\u001b[0m     keyarr, indexer, new_indexer \u001b[39m=\u001b[39m \u001b[39mself\u001b[39m\u001b[39m.\u001b[39m_reindex_non_unique(keyarr)\n\u001b[1;32m-> 6113\u001b[0m \u001b[39mself\u001b[39;49m\u001b[39m.\u001b[39;49m_raise_if_missing(keyarr, indexer, axis_name)\n\u001b[0;32m   6115\u001b[0m keyarr \u001b[39m=\u001b[39m \u001b[39mself\u001b[39m\u001b[39m.\u001b[39mtake(indexer)\n\u001b[0;32m   6116\u001b[0m \u001b[39mif\u001b[39;00m \u001b[39misinstance\u001b[39m(key, Index):\n\u001b[0;32m   6117\u001b[0m     \u001b[39m# GH 42790 - Preserve name from an Index\u001b[39;00m\n",
            "File \u001b[1;32mc:\\Users\\admin\\AppData\\Local\\Programs\\Python\\Python310\\lib\\site-packages\\pandas\\core\\indexes\\base.py:6173\u001b[0m, in \u001b[0;36mIndex._raise_if_missing\u001b[1;34m(self, key, indexer, axis_name)\u001b[0m\n\u001b[0;32m   6171\u001b[0m     \u001b[39mif\u001b[39;00m use_interval_msg:\n\u001b[0;32m   6172\u001b[0m         key \u001b[39m=\u001b[39m \u001b[39mlist\u001b[39m(key)\n\u001b[1;32m-> 6173\u001b[0m     \u001b[39mraise\u001b[39;00m \u001b[39mKeyError\u001b[39;00m(\u001b[39mf\u001b[39m\u001b[39m\"\u001b[39m\u001b[39mNone of [\u001b[39m\u001b[39m{\u001b[39;00mkey\u001b[39m}\u001b[39;00m\u001b[39m] are in the [\u001b[39m\u001b[39m{\u001b[39;00maxis_name\u001b[39m}\u001b[39;00m\u001b[39m]\u001b[39m\u001b[39m\"\u001b[39m)\n\u001b[0;32m   6175\u001b[0m not_found \u001b[39m=\u001b[39m \u001b[39mlist\u001b[39m(ensure_index(key)[missing_mask\u001b[39m.\u001b[39mnonzero()[\u001b[39m0\u001b[39m]]\u001b[39m.\u001b[39munique())\n\u001b[0;32m   6176\u001b[0m \u001b[39mraise\u001b[39;00m \u001b[39mKeyError\u001b[39;00m(\u001b[39mf\u001b[39m\u001b[39m\"\u001b[39m\u001b[39m{\u001b[39;00mnot_found\u001b[39m}\u001b[39;00m\u001b[39m not in index\u001b[39m\u001b[39m\"\u001b[39m)\n",
            "\u001b[1;31mKeyError\u001b[0m: \"None of [Index(['total_length', 'capitals', 'caps_vs_length', 'num_exclamation_marks',\\n       'num_question_marks', 'num_punctuation', 'num_symbols', 'num_words',\\n       'num_unique_words', 'words_vs_unique', 'num_smilies'],\\n      dtype='object')] are in the [index]\""
          ]
        }
      ],
      "source": [
        "import scipy\n",
        "train_x = scipy.sparse.csr_matrix(train_x[col].values)\n",
        "val_x = scipy.sparse.csr_matrix(val_x[col].values)\n",
        "test = scipy.sparse.csr_matrix(test[col].values)"
      ]
    },
    {
      "cell_type": "markdown",
      "metadata": {},
      "source": []
    },
    {
      "cell_type": "code",
      "execution_count": 14,
      "metadata": {
        "id": "OKdHhp2tR6lM"
      },
      "outputs": [],
      "source": [
        "comments_train = scipy.sparse.hstack([train_x.tocsr(),comments_train.tocsr()])\n",
        "comments_val = scipy.sparse.hstack([val_x,comments_val])\n",
        "comments_test = scipy.sparse.hstack([test,comments_test])"
      ]
    },
    {
      "cell_type": "code",
      "execution_count": 15,
      "metadata": {
        "id": "kuOZ0PFVTux7"
      },
      "outputs": [],
      "source": [
        "import xgboost as xgb"
      ]
    },
    {
      "cell_type": "code",
      "execution_count": 16,
      "metadata": {
        "id": "tG3bov9KTyxK"
      },
      "outputs": [],
      "source": [
        "def run(train_X, train_y, test_X, test_y=None, feature_names=None):\n",
        "    dic = {}\n",
        "    dic['objective'] = 'binary:logistic'\n",
        "    dic['eta'] = 0.1\n",
        "    dic['max_depth'] = 6\n",
        "    dic['silent'] = 1\n",
        "    dic['eval_metric'] = 'auc'\n",
        "    dic['min_child_weight'] = 1\n",
        "    dic['subsample'] = 0.7\n",
        "    dic['colsample_bytree'] = 0.7\n",
        "    num = 100\n",
        "    list_dic = list(dic.items())\n",
        "\n",
        "    xgtrain = xgb.DMatrix(train_X, label=train_y)\n",
        "    xgtest = xgb.DMatrix(test_X, label=test_y)\n",
        "\n",
        "    model = xgb.train(list_dic, xgtrain, num, [ (xgtrain,'train'), (xgtest, 'test') ], early_stopping_rounds=10)\n",
        "\n",
        "    return model "
      ]
    },
    {
      "cell_type": "code",
      "execution_count": 17,
      "metadata": {
        "colab": {
          "base_uri": "https://localhost:8080/"
        },
        "id": "CKxk6nGsTy9Y",
        "outputId": "da5eaf7b-813c-45ea-dee6-c08245efb1a5"
      },
      "outputs": [
        {
          "name": "stdout",
          "output_type": "stream",
          "text": [
            "fit toxic\n"
          ]
        },
        {
          "name": "stderr",
          "output_type": "stream",
          "text": [
            "c:\\Users\\admin\\AppData\\Local\\Programs\\Python\\Python310\\lib\\site-packages\\xgboost\\core.py:617: FutureWarning: Pass `evals` as keyword args.\n",
            "  warnings.warn(msg, FutureWarning)\n"
          ]
        },
        {
          "name": "stdout",
          "output_type": "stream",
          "text": [
            "[12:29:42] WARNING: C:\\buildkite-agent\\builds\\buildkite-windows-cpu-autoscaling-group-i-07593ffd91cd9da33-1\\xgboost\\xgboost-ci-windows\\src\\learner.cc:767: \n",
            "Parameters: { \"silent\" } are not used.\n",
            "\n",
            "[0]\ttrain-auc:0.69918\ttest-auc:0.69861\n",
            "[1]\ttrain-auc:0.71597\ttest-auc:0.71605\n",
            "[2]\ttrain-auc:0.75598\ttest-auc:0.75801\n",
            "[3]\ttrain-auc:0.76397\ttest-auc:0.76431\n",
            "[4]\ttrain-auc:0.76690\ttest-auc:0.76740\n",
            "[5]\ttrain-auc:0.82699\ttest-auc:0.82094\n",
            "[6]\ttrain-auc:0.85755\ttest-auc:0.84995\n",
            "[7]\ttrain-auc:0.85698\ttest-auc:0.85013\n",
            "[8]\ttrain-auc:0.85867\ttest-auc:0.85116\n",
            "[9]\ttrain-auc:0.86382\ttest-auc:0.85564\n",
            "[10]\ttrain-auc:0.87147\ttest-auc:0.86218\n",
            "[11]\ttrain-auc:0.87592\ttest-auc:0.86619\n",
            "[12]\ttrain-auc:0.88396\ttest-auc:0.87416\n",
            "[13]\ttrain-auc:0.88761\ttest-auc:0.87731\n",
            "[14]\ttrain-auc:0.89162\ttest-auc:0.88209\n",
            "[15]\ttrain-auc:0.89253\ttest-auc:0.88239\n",
            "[16]\ttrain-auc:0.89931\ttest-auc:0.89070\n",
            "[17]\ttrain-auc:0.90224\ttest-auc:0.89346\n",
            "[18]\ttrain-auc:0.90466\ttest-auc:0.89581\n",
            "[19]\ttrain-auc:0.90597\ttest-auc:0.89692\n",
            "[20]\ttrain-auc:0.90828\ttest-auc:0.89936\n",
            "[21]\ttrain-auc:0.91003\ttest-auc:0.90095\n",
            "[22]\ttrain-auc:0.91256\ttest-auc:0.90405\n",
            "[23]\ttrain-auc:0.91431\ttest-auc:0.90561\n",
            "[24]\ttrain-auc:0.91680\ttest-auc:0.90726\n",
            "[25]\ttrain-auc:0.91900\ttest-auc:0.90984\n",
            "[26]\ttrain-auc:0.91998\ttest-auc:0.91063\n",
            "[27]\ttrain-auc:0.92154\ttest-auc:0.91243\n",
            "[28]\ttrain-auc:0.92303\ttest-auc:0.91302\n",
            "[29]\ttrain-auc:0.92343\ttest-auc:0.91360\n",
            "[30]\ttrain-auc:0.92469\ttest-auc:0.91450\n",
            "[31]\ttrain-auc:0.92683\ttest-auc:0.91641\n",
            "[32]\ttrain-auc:0.92788\ttest-auc:0.91713\n",
            "[33]\ttrain-auc:0.92973\ttest-auc:0.91836\n",
            "[34]\ttrain-auc:0.93099\ttest-auc:0.91932\n",
            "[35]\ttrain-auc:0.93136\ttest-auc:0.91955\n",
            "[36]\ttrain-auc:0.93272\ttest-auc:0.92081\n",
            "[37]\ttrain-auc:0.93348\ttest-auc:0.92186\n",
            "[38]\ttrain-auc:0.93476\ttest-auc:0.92291\n",
            "[39]\ttrain-auc:0.93574\ttest-auc:0.92380\n",
            "[40]\ttrain-auc:0.93704\ttest-auc:0.92493\n",
            "[41]\ttrain-auc:0.93798\ttest-auc:0.92581\n",
            "[42]\ttrain-auc:0.93839\ttest-auc:0.92628\n",
            "[43]\ttrain-auc:0.93932\ttest-auc:0.92696\n",
            "[44]\ttrain-auc:0.94040\ttest-auc:0.92778\n",
            "[45]\ttrain-auc:0.94159\ttest-auc:0.92835\n",
            "[46]\ttrain-auc:0.94284\ttest-auc:0.92954\n",
            "[47]\ttrain-auc:0.94388\ttest-auc:0.93044\n",
            "[48]\ttrain-auc:0.94444\ttest-auc:0.93114\n",
            "[49]\ttrain-auc:0.94509\ttest-auc:0.93144\n",
            "[50]\ttrain-auc:0.94573\ttest-auc:0.93204\n",
            "[51]\ttrain-auc:0.94655\ttest-auc:0.93279\n",
            "[52]\ttrain-auc:0.94734\ttest-auc:0.93322\n",
            "[53]\ttrain-auc:0.94798\ttest-auc:0.93372\n",
            "[54]\ttrain-auc:0.94812\ttest-auc:0.93417\n",
            "[55]\ttrain-auc:0.94850\ttest-auc:0.93454\n",
            "[56]\ttrain-auc:0.94909\ttest-auc:0.93518\n",
            "[57]\ttrain-auc:0.94968\ttest-auc:0.93536\n",
            "[58]\ttrain-auc:0.95045\ttest-auc:0.93586\n",
            "[59]\ttrain-auc:0.95099\ttest-auc:0.93624\n",
            "[60]\ttrain-auc:0.95130\ttest-auc:0.93644\n",
            "[61]\ttrain-auc:0.95198\ttest-auc:0.93704\n",
            "[62]\ttrain-auc:0.95236\ttest-auc:0.93742\n",
            "[63]\ttrain-auc:0.95265\ttest-auc:0.93766\n",
            "[64]\ttrain-auc:0.95316\ttest-auc:0.93823\n",
            "[65]\ttrain-auc:0.95348\ttest-auc:0.93857\n",
            "[66]\ttrain-auc:0.95409\ttest-auc:0.93883\n",
            "[67]\ttrain-auc:0.95464\ttest-auc:0.93926\n",
            "[68]\ttrain-auc:0.95504\ttest-auc:0.93977\n",
            "[69]\ttrain-auc:0.95545\ttest-auc:0.94021\n",
            "[70]\ttrain-auc:0.95594\ttest-auc:0.94065\n",
            "[71]\ttrain-auc:0.95654\ttest-auc:0.94079\n",
            "[72]\ttrain-auc:0.95675\ttest-auc:0.94104\n",
            "[73]\ttrain-auc:0.95715\ttest-auc:0.94132\n",
            "[74]\ttrain-auc:0.95736\ttest-auc:0.94153\n",
            "[75]\ttrain-auc:0.95762\ttest-auc:0.94178\n",
            "[76]\ttrain-auc:0.95812\ttest-auc:0.94222\n",
            "[77]\ttrain-auc:0.95843\ttest-auc:0.94253\n",
            "[78]\ttrain-auc:0.95877\ttest-auc:0.94282\n",
            "[79]\ttrain-auc:0.95911\ttest-auc:0.94318\n",
            "[80]\ttrain-auc:0.95955\ttest-auc:0.94357\n",
            "[81]\ttrain-auc:0.95992\ttest-auc:0.94387\n",
            "[82]\ttrain-auc:0.96032\ttest-auc:0.94401\n",
            "[83]\ttrain-auc:0.96062\ttest-auc:0.94431\n",
            "[84]\ttrain-auc:0.96086\ttest-auc:0.94455\n",
            "[85]\ttrain-auc:0.96115\ttest-auc:0.94506\n",
            "[86]\ttrain-auc:0.96155\ttest-auc:0.94555\n",
            "[87]\ttrain-auc:0.96201\ttest-auc:0.94614\n",
            "[88]\ttrain-auc:0.96229\ttest-auc:0.94632\n",
            "[89]\ttrain-auc:0.96264\ttest-auc:0.94654\n",
            "[90]\ttrain-auc:0.96292\ttest-auc:0.94670\n",
            "[91]\ttrain-auc:0.96312\ttest-auc:0.94698\n",
            "[92]\ttrain-auc:0.96343\ttest-auc:0.94747\n",
            "[93]\ttrain-auc:0.96361\ttest-auc:0.94752\n",
            "[94]\ttrain-auc:0.96370\ttest-auc:0.94761\n",
            "[95]\ttrain-auc:0.96395\ttest-auc:0.94781\n",
            "[96]\ttrain-auc:0.96423\ttest-auc:0.94805\n",
            "[97]\ttrain-auc:0.96446\ttest-auc:0.94828\n",
            "[98]\ttrain-auc:0.96464\ttest-auc:0.94857\n",
            "[99]\ttrain-auc:0.96499\ttest-auc:0.94863\n"
          ]
        },
        {
          "name": "stderr",
          "output_type": "stream",
          "text": [
            "c:\\Users\\admin\\AppData\\Local\\Programs\\Python\\Python310\\lib\\site-packages\\xgboost\\core.py:122: UserWarning: ntree_limit is deprecated, use `iteration_range` or model slicing instead.\n",
            "  warnings.warn(\n"
          ]
        },
        {
          "ename": "NameError",
          "evalue": "name 'gc' is not defined",
          "output_type": "error",
          "traceback": [
            "\u001b[1;31m---------------------------------------------------------------------------\u001b[0m",
            "\u001b[1;31mNameError\u001b[0m                                 Traceback (most recent call last)",
            "Cell \u001b[1;32mIn[17], line 8\u001b[0m\n\u001b[0;32m      6\u001b[0m model \u001b[39m=\u001b[39m run(comments_train, train_y[j], comments_val,val_y[j])\n\u001b[0;32m      7\u001b[0m preds[:,i] \u001b[39m=\u001b[39m model\u001b[39m.\u001b[39mpredict(xgb\u001b[39m.\u001b[39mDMatrix(comments_test), ntree_limit \u001b[39m=\u001b[39m model\u001b[39m.\u001b[39mbest_ntree_limit)\n\u001b[1;32m----> 8\u001b[0m gc\u001b[39m.\u001b[39mcollect()\n",
            "\u001b[1;31mNameError\u001b[0m: name 'gc' is not defined"
          ]
        }
      ],
      "source": [
        "col = ['toxic', 'severe_toxic', 'obscene', 'threat', 'insult', 'identity_hate']\n",
        "preds = np.zeros((test.shape[0], len(col)))\n",
        "\n",
        "for i, j in enumerate(col):\n",
        "    print('fit '+j)\n",
        "    model = run(comments_train, train_y[j], comments_val,val_y[j])\n",
        "    preds[:,i] = model.predict(xgb.DMatrix(comments_test), ntree_limit = model.best_ntree_limit)\n",
        "    gc.collect()"
      ]
    },
    {
      "cell_type": "code",
      "execution_count": null,
      "metadata": {
        "id": "VQ0r9yq2Tuqp"
      },
      "outputs": [],
      "source": [
        "labels=pd.read_csv('dataset/test_labels.csv')\n",
        "labels=np.array(labels.iloc[:,1:])\n",
        "sum_labels=np.sum(labels,axis=1)\n",
        "idx=sum_labels>=0"
      ]
    },
    {
      "cell_type": "code",
      "execution_count": null,
      "metadata": {
        "colab": {
          "base_uri": "https://localhost:8080/"
        },
        "id": "9C4D8OzKR6il",
        "outputId": "1b4a9c97-d5b7-48c3-f4c8-34bb18f40ba8"
      },
      "outputs": [
        {
          "data": {
            "text/plain": [
              "((63978, 6), (63978, 6))"
            ]
          },
          "execution_count": 123,
          "metadata": {
            "tags": []
          },
          "output_type": "execute_result"
        }
      ],
      "source": [
        "preds_consider=preds[idx]\n",
        "labels_consider= labels[idx]\n",
        "preds_consider.shape,labels_consider.shape"
      ]
    },
    {
      "cell_type": "code",
      "execution_count": null,
      "metadata": {
        "colab": {
          "base_uri": "https://localhost:8080/"
        },
        "id": "n4-yBayJaJ8B",
        "outputId": "6210ff92-26f9-4751-eb6d-bf16ffdf4f11"
      },
      "outputs": [
        {
          "data": {
            "text/plain": [
              "0.9635699477762086"
            ]
          },
          "execution_count": 124,
          "metadata": {
            "tags": []
          },
          "output_type": "execute_result"
        }
      ],
      "source": [
        "from sklearn.metrics import roc_auc_score\n",
        "scores=[]\n",
        "for i in range(6):\n",
        "  scores.append(roc_auc_score(labels_consider[:,i],preds_consider[:,i]))\n",
        "np.mean(scores)"
      ]
    },
    {
      "cell_type": "code",
      "execution_count": null,
      "metadata": {
        "id": "w9QwnNRmgER2"
      },
      "outputs": [],
      "source": []
    }
  ],
  "metadata": {
    "colab": {
      "collapsed_sections": [],
      "name": "XGboost.ipynb",
      "provenance": []
    },
    "kernelspec": {
      "display_name": "Python 3",
      "name": "python3"
    },
    "language_info": {
      "codemirror_mode": {
        "name": "ipython",
        "version": 3
      },
      "file_extension": ".py",
      "mimetype": "text/x-python",
      "name": "python",
      "nbconvert_exporter": "python",
      "pygments_lexer": "ipython3",
      "version": "3.10.9"
    }
  },
  "nbformat": 4,
  "nbformat_minor": 0
}
