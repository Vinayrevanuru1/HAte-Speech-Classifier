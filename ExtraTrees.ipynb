{
  "cells": [
    {
      "cell_type": "code",
      "execution_count": 1,
      "metadata": {
        "id": "RSuvpi6ZshWr"
      },
      "outputs": [],
      "source": [
        "path_train='dataset/train.csv'\n",
        "path_test='dataset/test.csv'"
      ]
    },
    {
      "cell_type": "code",
      "execution_count": 2,
      "metadata": {
        "id": "ubXqMFbhssDE"
      },
      "outputs": [],
      "source": [
        "import pandas as pd\n",
        "\n",
        "#import TfIdfVectorizer from scikit-learn\n",
        "\n",
        "from sklearn.feature_extraction.text import TfidfVectorizer"
      ]
    },
    {
      "cell_type": "code",
      "execution_count": 3,
      "metadata": {
        "id": "VApe5SnyvYJH"
      },
      "outputs": [],
      "source": [
        "class_names = ['toxic', 'severe_toxic', 'obscene', 'threat', 'insult', 'identity_hate']"
      ]
    },
    {
      "cell_type": "code",
      "execution_count": 4,
      "metadata": {
        "id": "IpIxC4Tqson2"
      },
      "outputs": [],
      "source": [
        "train = pd.read_csv(path_train)\n",
        "test = pd.read_csv(path_test)"
      ]
    },
    {
      "cell_type": "code",
      "execution_count": 5,
      "metadata": {},
      "outputs": [],
      "source": [
        "clean_word_dict={'ａ': 'a',\n",
        " '！': ' !',\n",
        " '＋': ' +',\n",
        " '－': ' -',\n",
        " '．': ' .',\n",
        " '０': '0',\n",
        " '１': '1',\n",
        " '２': '2',\n",
        " '３': '3',\n",
        " '４': '4',\n",
        " '５': '5',\n",
        " '６': '6',\n",
        " '７': '7',\n",
        " '８': '8',\n",
        " '９': '9',\n",
        " '＝': ' =',\n",
        " '？': ' ?',\n",
        " 'Ａ': 'a',\n",
        " 'Ｂ': 'b',\n",
        " 'Ｃ': 'c',\n",
        " 'Ｄ': 'd',\n",
        " 'Ｅ': 'e',\n",
        " 'Ｆ': 'f',\n",
        " 'Ｇ': 'g',\n",
        " 'Ｈ': 'h',\n",
        " 'Ｉ': 'i',\n",
        " 'Ｊ': 'j',\n",
        " 'Ｋ': 'k',\n",
        " 'Ｌ': 'l',\n",
        " 'Ｍ': 'm',\n",
        " 'Ｎ': 'n',\n",
        " 'Ｏ': 'o',\n",
        " 'Ｐ': 'p',\n",
        " 'Ｑ': 'q',\n",
        " 'Ｒ': 'r',\n",
        " 'Ｓ': 's',\n",
        " 'Ｔ': 't',\n",
        " 'Ｕ': 'u',\n",
        " 'Ｖ': 'v',\n",
        " 'Ｗ': 'w',\n",
        " 'Ｘ': 'x',\n",
        " 'Ｙ': 'y',\n",
        " 'Ｚ': 'z',\n",
        " 'ｂ': 'b',\n",
        " 'ｃ': 'c',\n",
        " 'ｄ': 'd',\n",
        " 'ｅ': 'e',\n",
        " 'ｆ': 'f',\n",
        " 'ｇ': 'g',\n",
        " 'ｈ': 'h',\n",
        " 'ｉ': 'i',\n",
        " 'ｊ': 'j',\n",
        " 'ｋ': 'k',\n",
        " 'ｌ': 'l',\n",
        " 'ｍ': 'm',\n",
        " 'ｎ': 'n',\n",
        " 'ｏ': 'o',\n",
        " 'ｐ': 'p',\n",
        " 'ｑ': 'q',\n",
        " 'ｒ': 'r',\n",
        " 'ｓ': 's',\n",
        " 'ｔ': 't',\n",
        " 'ｕ': 'u',\n",
        " 'ｖ': 'v',\n",
        " 'ｗ': 'w',\n",
        " 'ｘ': 'x',\n",
        " 'ｙ': 'y',\n",
        " 'ｚ': 'z'}"
      ]
    },
    {
      "cell_type": "code",
      "execution_count": 6,
      "metadata": {
        "id": "0cZIGxqnsqv1"
      },
      "outputs": [],
      "source": [
        "vocab = pd.concat([train['comment_text'],  test['comment_text']])"
      ]
    },
    {
      "cell_type": "code",
      "execution_count": 7,
      "metadata": {
        "id": "j-Hc73KEs3Ex"
      },
      "outputs": [],
      "source": [
        "import re\n",
        "import string\n",
        "def clean_dataset(word):\n",
        "    word = word.lower()\n",
        "    word = re.sub(r\"https?:\\/\\/(www\\.)?[-a-zA-Z0-9@:%._\\+~#=]{2,256}\\.[a-z]{2,6}\\b([-a-zA-Z0-9@:%_\\+.~#?&//=]*)\", \"\", word)\n",
        "    word = re.sub(r\"(25[0-5]|2[0-4][0-9]|[01]?[0-9][0-9]?)(\\.(25[0-5]|2[0-4][0-9]|[01]?[0-9][0-9]?)){3}\", \"\", word)\n",
        "    for typo, correct in clean_word_dict.items():\n",
        "        word = re.sub(typo, \" \" + correct + \" \", word)\n",
        "    symbols = re.compile(f'([{string.punctuation}“”¨«»®´·º½¾¿¡§£₤‘’])')\n",
        "    word=symbols.sub(r' \\1 ', word)\n",
        "    return word\n",
        "\n",
        "train_comments = []\n",
        "test_comments = []\n",
        "for comment in train['comment_text']:\n",
        "    train_comments.append(clean_dataset(comment))\n",
        "    \n",
        "for comment in test['comment_text']:\n",
        "    test_comments.append(clean_dataset(comment))"
      ]
    },
    {
      "cell_type": "code",
      "execution_count": 8,
      "metadata": {
        "id": "a4mg5vsitWcJ"
      },
      "outputs": [],
      "source": [
        "transform_function = TfidfVectorizer(\n",
        "    sublinear_tf=1,\n",
        "    strip_accents='unicode',\n",
        "    analyzer='word',\n",
        "    token_pattern=r'\\w{1,}',\n",
        "    ngram_range=(1, 2),\n",
        "    max_features=10000)"
      ]
    },
    {
      "cell_type": "code",
      "execution_count": 9,
      "metadata": {
        "colab": {
          "base_uri": "https://localhost:8080/"
        },
        "id": "IeT74ue7v4M0",
        "outputId": "c1d55dd4-1f9a-4dc5-8eda-e6aa8c147d04"
      },
      "outputs": [
        {
          "name": "stderr",
          "output_type": "stream",
          "text": [
            "c:\\Users\\admin\\AppData\\Local\\Programs\\Python\\Python310\\lib\\site-packages\\sklearn\\utils\\_param_validation.py:558: FutureWarning: Passing an int for a boolean parameter is deprecated in version 1.2 and won't be supported anymore in version 1.4.\n",
            "  warnings.warn(\n"
          ]
        },
        {
          "data": {
            "text/html": [
              "<style>#sk-container-id-1 {color: black;background-color: white;}#sk-container-id-1 pre{padding: 0;}#sk-container-id-1 div.sk-toggleable {background-color: white;}#sk-container-id-1 label.sk-toggleable__label {cursor: pointer;display: block;width: 100%;margin-bottom: 0;padding: 0.3em;box-sizing: border-box;text-align: center;}#sk-container-id-1 label.sk-toggleable__label-arrow:before {content: \"▸\";float: left;margin-right: 0.25em;color: #696969;}#sk-container-id-1 label.sk-toggleable__label-arrow:hover:before {color: black;}#sk-container-id-1 div.sk-estimator:hover label.sk-toggleable__label-arrow:before {color: black;}#sk-container-id-1 div.sk-toggleable__content {max-height: 0;max-width: 0;overflow: hidden;text-align: left;background-color: #f0f8ff;}#sk-container-id-1 div.sk-toggleable__content pre {margin: 0.2em;color: black;border-radius: 0.25em;background-color: #f0f8ff;}#sk-container-id-1 input.sk-toggleable__control:checked~div.sk-toggleable__content {max-height: 200px;max-width: 100%;overflow: auto;}#sk-container-id-1 input.sk-toggleable__control:checked~label.sk-toggleable__label-arrow:before {content: \"▾\";}#sk-container-id-1 div.sk-estimator input.sk-toggleable__control:checked~label.sk-toggleable__label {background-color: #d4ebff;}#sk-container-id-1 div.sk-label input.sk-toggleable__control:checked~label.sk-toggleable__label {background-color: #d4ebff;}#sk-container-id-1 input.sk-hidden--visually {border: 0;clip: rect(1px 1px 1px 1px);clip: rect(1px, 1px, 1px, 1px);height: 1px;margin: -1px;overflow: hidden;padding: 0;position: absolute;width: 1px;}#sk-container-id-1 div.sk-estimator {font-family: monospace;background-color: #f0f8ff;border: 1px dotted black;border-radius: 0.25em;box-sizing: border-box;margin-bottom: 0.5em;}#sk-container-id-1 div.sk-estimator:hover {background-color: #d4ebff;}#sk-container-id-1 div.sk-parallel-item::after {content: \"\";width: 100%;border-bottom: 1px solid gray;flex-grow: 1;}#sk-container-id-1 div.sk-label:hover label.sk-toggleable__label {background-color: #d4ebff;}#sk-container-id-1 div.sk-serial::before {content: \"\";position: absolute;border-left: 1px solid gray;box-sizing: border-box;top: 0;bottom: 0;left: 50%;z-index: 0;}#sk-container-id-1 div.sk-serial {display: flex;flex-direction: column;align-items: center;background-color: white;padding-right: 0.2em;padding-left: 0.2em;position: relative;}#sk-container-id-1 div.sk-item {position: relative;z-index: 1;}#sk-container-id-1 div.sk-parallel {display: flex;align-items: stretch;justify-content: center;background-color: white;position: relative;}#sk-container-id-1 div.sk-item::before, #sk-container-id-1 div.sk-parallel-item::before {content: \"\";position: absolute;border-left: 1px solid gray;box-sizing: border-box;top: 0;bottom: 0;left: 50%;z-index: -1;}#sk-container-id-1 div.sk-parallel-item {display: flex;flex-direction: column;z-index: 1;position: relative;background-color: white;}#sk-container-id-1 div.sk-parallel-item:first-child::after {align-self: flex-end;width: 50%;}#sk-container-id-1 div.sk-parallel-item:last-child::after {align-self: flex-start;width: 50%;}#sk-container-id-1 div.sk-parallel-item:only-child::after {width: 0;}#sk-container-id-1 div.sk-dashed-wrapped {border: 1px dashed gray;margin: 0 0.4em 0.5em 0.4em;box-sizing: border-box;padding-bottom: 0.4em;background-color: white;}#sk-container-id-1 div.sk-label label {font-family: monospace;font-weight: bold;display: inline-block;line-height: 1.2em;}#sk-container-id-1 div.sk-label-container {text-align: center;}#sk-container-id-1 div.sk-container {/* jupyter's `normalize.less` sets `[hidden] { display: none; }` but bootstrap.min.css set `[hidden] { display: none !important; }` so we also need the `!important` here to be able to override the default hidden behavior on the sphinx rendered scikit-learn.org. See: https://github.com/scikit-learn/scikit-learn/issues/21755 */display: inline-block !important;position: relative;}#sk-container-id-1 div.sk-text-repr-fallback {display: none;}</style><div id=\"sk-container-id-1\" class=\"sk-top-container\"><div class=\"sk-text-repr-fallback\"><pre>TfidfVectorizer(max_features=10000, ngram_range=(1, 2), strip_accents=&#x27;unicode&#x27;,\n",
              "                sublinear_tf=1, token_pattern=&#x27;\\\\w{1,}&#x27;)</pre><b>In a Jupyter environment, please rerun this cell to show the HTML representation or trust the notebook. <br />On GitHub, the HTML representation is unable to render, please try loading this page with nbviewer.org.</b></div><div class=\"sk-container\" hidden><div class=\"sk-item\"><div class=\"sk-estimator sk-toggleable\"><input class=\"sk-toggleable__control sk-hidden--visually\" id=\"sk-estimator-id-1\" type=\"checkbox\" checked><label for=\"sk-estimator-id-1\" class=\"sk-toggleable__label sk-toggleable__label-arrow\">TfidfVectorizer</label><div class=\"sk-toggleable__content\"><pre>TfidfVectorizer(max_features=10000, ngram_range=(1, 2), strip_accents=&#x27;unicode&#x27;,\n",
              "                sublinear_tf=1, token_pattern=&#x27;\\\\w{1,}&#x27;)</pre></div></div></div></div></div>"
            ],
            "text/plain": [
              "TfidfVectorizer(max_features=10000, ngram_range=(1, 2), strip_accents='unicode',\n",
              "                sublinear_tf=1, token_pattern='\\\\w{1,}')"
            ]
          },
          "execution_count": 9,
          "metadata": {},
          "output_type": "execute_result"
        }
      ],
      "source": [
        "transform_function.fit(vocab)"
      ]
    },
    {
      "cell_type": "code",
      "execution_count": 10,
      "metadata": {
        "id": "S0lr6UXcuxKl"
      },
      "outputs": [],
      "source": [
        "comments_train = transform_function.transform(train_comments)\n",
        "comments_test = transform_function.transform(test_comments)"
      ]
    },
    {
      "cell_type": "code",
      "execution_count": 11,
      "metadata": {
        "id": "0lPMYMW6vd5F"
      },
      "outputs": [],
      "source": [
        "import numpy as np"
      ]
    },
    {
      "cell_type": "code",
      "execution_count": 12,
      "metadata": {
        "id": "FHpJ4V2zviF9"
      },
      "outputs": [],
      "source": [
        "from sklearn.model_selection import cross_val_score"
      ]
    },
    {
      "cell_type": "code",
      "execution_count": 13,
      "metadata": {
        "colab": {
          "base_uri": "https://localhost:8080/"
        },
        "id": "zPc4-0d5u5bY",
        "outputId": "da19a58f-7a04-492e-ae74-9a51f594e100"
      },
      "outputs": [
        {
          "name": "stdout",
          "output_type": "stream",
          "text": [
            "toxic 0.9484062438407518\n",
            "severe_toxic 0.9323702131123341\n",
            "obscene 0.9724143047146117\n",
            "threat 0.8630551577808537\n",
            "insult 0.9549819213901385\n",
            "identity_hate 0.8813758730768806\n"
          ]
        }
      ],
      "source": [
        "from sklearn.ensemble import ExtraTreesClassifier\n",
        "\n",
        "losses = []\n",
        "predictions = []\n",
        "for class_name in class_names:\n",
        "    train_target = train[class_name]\n",
        "    classifier = ExtraTreesClassifier(n_estimators=30) \n",
        "    score = np.mean(cross_val_score(classifier, comments_train, train_target, cv=2, scoring='roc_auc'))\n",
        "    print(class_name, score)  \n",
        "    classifier.fit(comments_train, train_target)\n",
        "    predictions.append(classifier.predict_proba(comments_test)[:, 1])"
      ]
    },
    {
      "cell_type": "code",
      "execution_count": null,
      "metadata": {
        "id": "aUD1Wa0PvTe_"
      },
      "outputs": [],
      "source": [
        "labels=pd.read_csv('dataset/test_labels.csv')\n",
        "labels=np.array(labels.iloc[:,1:])\n",
        "sum_labels=np.sum(labels,axis=1)\n",
        "idx=sum_labels>=0"
      ]
    },
    {
      "cell_type": "code",
      "execution_count": null,
      "metadata": {
        "colab": {
          "base_uri": "https://localhost:8080/"
        },
        "id": "lYEc3j839bcs",
        "outputId": "eccbbffc-b4d2-46b9-c07a-f8b93c571520"
      },
      "outputs": [
        {
          "data": {
            "text/plain": [
              "((6, 63978), (63978, 6))"
            ]
          },
          "execution_count": 56,
          "metadata": {
            "tags": []
          },
          "output_type": "execute_result"
        }
      ],
      "source": [
        "preds_consider=np.array(predictions)[:,idx]\n",
        "labels_consider= labels[idx]\n",
        "preds_consider.shape,labels_consider.shape"
      ]
    },
    {
      "cell_type": "code",
      "execution_count": null,
      "metadata": {
        "colab": {
          "base_uri": "https://localhost:8080/"
        },
        "id": "rfsrc_GO9bnn",
        "outputId": "da8c79e4-d6ea-4dec-c2e0-e403ea785e70"
      },
      "outputs": [
        {
          "data": {
            "text/plain": [
              "0.9323676675669743"
            ]
          },
          "execution_count": 57,
          "metadata": {
            "tags": []
          },
          "output_type": "execute_result"
        }
      ],
      "source": [
        "from sklearn.metrics import roc_auc_score\n",
        "scores=[]\n",
        "for i in range(6):\n",
        "  scores.append(roc_auc_score(labels_consider[:,i],preds_consider[i,:]))\n",
        "np.mean(scores)"
      ]
    },
    {
      "cell_type": "code",
      "execution_count": null,
      "metadata": {},
      "outputs": [],
      "source": []
    }
  ],
  "metadata": {
    "colab": {
      "collapsed_sections": [],
      "name": "ExtraTrees.ipynb",
      "provenance": []
    },
    "kernelspec": {
      "display_name": "Python 3",
      "name": "python3"
    },
    "language_info": {
      "codemirror_mode": {
        "name": "ipython",
        "version": 3
      },
      "file_extension": ".py",
      "mimetype": "text/x-python",
      "name": "python",
      "nbconvert_exporter": "python",
      "pygments_lexer": "ipython3",
      "version": "3.10.9"
    }
  },
  "nbformat": 4,
  "nbformat_minor": 0
}
